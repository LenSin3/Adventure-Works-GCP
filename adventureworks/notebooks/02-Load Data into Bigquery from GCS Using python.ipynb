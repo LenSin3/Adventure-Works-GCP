{
 "cells": [
  {
   "cell_type": "code",
   "execution_count": 107,
   "metadata": {},
   "outputs": [],
   "source": [
    "# import depenendencies\n",
    "from google.cloud import bigquery\n",
    "import pandas as pd"
   ]
  },
  {
   "cell_type": "code",
   "execution_count": 108,
   "metadata": {},
   "outputs": [],
   "source": [
    "# project id\n",
    "project_id = 'dataengongcp'"
   ]
  },
  {
   "cell_type": "code",
   "execution_count": 109,
   "metadata": {},
   "outputs": [],
   "source": [
    "# instantiate bigquery client\n",
    "client = bigquery.Client()"
   ]
  },
  {
   "cell_type": "code",
   "execution_count": 110,
   "metadata": {},
   "outputs": [],
   "source": [
    "\n",
    "# read, format and save csv to parquet\n",
    "df_sales_15 = pd.read_csv('gs://lpkadvworks/data/AW_Sales/AdventureWorks_Sales_2015.csv')\n"
   ]
  },
  {
   "cell_type": "code",
   "execution_count": 113,
   "metadata": {},
   "outputs": [
    {
     "data": {
      "text/plain": [
       "array([332, 312, 350, 338, 310, 314, 345, 313, 351, 344, 326, 348, 311,\n",
       "       324, 342, 349, 346, 328, 334, 347, 320, 330, 322, 340, 336, 371,\n",
       "       373, 354, 362, 385, 358, 377, 381, 379, 369, 370, 368, 352, 375,\n",
       "       387, 360, 356, 383, 389], dtype=int64)"
      ]
     },
     "execution_count": 113,
     "metadata": {},
     "output_type": "execute_result"
    }
   ],
   "source": [
    "df_ord_qty = df_sales_15['ProductKey'].unique()\n",
    "df_ord_qty"
   ]
  },
  {
   "cell_type": "code",
   "execution_count": 115,
   "metadata": {},
   "outputs": [],
   "source": [
    "# uri = \"gs://cloud-samples-data/bigquery/us-states/us-states.csv\"\n",
    "# pd.read_csv(uri)"
   ]
  },
  {
   "cell_type": "code",
   "execution_count": 41,
   "metadata": {},
   "outputs": [],
   "source": [
    "def format_and_to_parquet(csv_uri, parquet_uri):\n",
    "    df = pd.read_csv(csv_uri)\n",
    "    date_cols = ['OrderDate', 'StockDate']\n",
    "    for col in date_cols:\n",
    "        df[col] = df[col].str.replace('/', '-')\n",
    "        df[col] = pd.to_datetime(df[col])\n",
    "    df.to_parquet(parquet_uri, compression='snappy', index=False)"
   ]
  },
  {
   "cell_type": "code",
   "execution_count": 57,
   "metadata": {},
   "outputs": [],
   "source": [
    "def format_and_to_csv(csv_uri, csv_formatted_uri):\n",
    "    df = pd.read_csv(csv_uri)\n",
    "    date_cols = ['OrderDate', 'StockDate']\n",
    "    for col in date_cols:\n",
    "        df[col] = df[col].str.replace('/', '-')\n",
    "        df[col] = pd.to_datetime(df[col])\n",
    "    df.to_csv(f'gs://lpkadvworks/data/AW_Sales/AdventureWorks_Sales_{csv_formatted_uri}_2015.csv', index=False)"
   ]
  },
  {
   "cell_type": "code",
   "execution_count": 58,
   "metadata": {},
   "outputs": [],
   "source": [
    "csv_uri = 'gs://lpkadvworks/data/AW_Sales/AdventureWorks_Sales_2015.csv'\n",
    "parquet_uri = 'gs://lpkadvworks/data/AW_Sales/AdventureWorks_Sales_2015.parquet'\n",
    "csv_formatted_uri = 'formatted'"
   ]
  },
  {
   "cell_type": "code",
   "execution_count": 71,
   "metadata": {},
   "outputs": [],
   "source": [
    "format_and_to_csv(csv_uri, csv_formatted_uri)"
   ]
  },
  {
   "cell_type": "code",
   "execution_count": 72,
   "metadata": {},
   "outputs": [
    {
     "name": "stdout",
     "output_type": "stream",
     "text": [
      "gs://lpkadvworks/data/AW_Sales/:\n",
      "gs://lpkadvworks/data/AW_Sales/AdventureWorks_Sales_2015.csv\n",
      "gs://lpkadvworks/data/AW_Sales/AdventureWorks_Sales_2015.parquet\n",
      "gs://lpkadvworks/data/AW_Sales/AdventureWorks_Sales_2015.snappy.parquet\n",
      "gs://lpkadvworks/data/AW_Sales/AdventureWorks_Sales_2016.csv\n",
      "gs://lpkadvworks/data/AW_Sales/AdventureWorks_Sales_2017.csv\n",
      "gs://lpkadvworks/data/AW_Sales/AdventureWorks_Sales_formatted_2015.csv\n"
     ]
    }
   ],
   "source": [
    "!gsutil ls -r gs://lpkadvworks/data/AW_Sales"
   ]
  },
  {
   "cell_type": "code",
   "execution_count": 122,
   "metadata": {},
   "outputs": [],
   "source": [
    "sales_2015_formatted_df = pd.read_csv('gs://lpkadvworks/data/AW_Sales/AdventureWorks_Sales_formatted_2015.csv')"
   ]
  },
  {
   "cell_type": "code",
   "execution_count": 128,
   "metadata": {},
   "outputs": [],
   "source": [
    "\n",
    "date_cols = ['OrderDate', 'StockDate']\n",
    "for col in date_cols:\n",
    "    sales_2015_formatted_df[col] = sales_2015_formatted_df[col].str.replace('/', '-')\n",
    "    sales_2015_formatted_df[col] = pd.to_datetime(sales_2015_formatted_df[col])"
   ]
  },
  {
   "cell_type": "code",
   "execution_count": 129,
   "metadata": {},
   "outputs": [
    {
     "name": "stdout",
     "output_type": "stream",
     "text": [
      "<class 'pandas.core.frame.DataFrame'>\n",
      "RangeIndex: 2630 entries, 0 to 2629\n",
      "Data columns (total 8 columns):\n",
      " #   Column         Non-Null Count  Dtype         \n",
      "---  ------         --------------  -----         \n",
      " 0   OrderDate      2630 non-null   datetime64[ns]\n",
      " 1   StockDate      2630 non-null   datetime64[ns]\n",
      " 2   OrderNumber    2630 non-null   object        \n",
      " 3   ProductKey     2630 non-null   int64         \n",
      " 4   CustomerKey    2630 non-null   int64         \n",
      " 5   TerritoryKey   2630 non-null   int64         \n",
      " 6   OrderLineItem  2630 non-null   int64         \n",
      " 7   OrderQuantity  2630 non-null   int64         \n",
      "dtypes: datetime64[ns](2), int64(5), object(1)\n",
      "memory usage: 164.5+ KB\n"
     ]
    }
   ],
   "source": [
    "sales_2015_formatted_df.info()"
   ]
  },
  {
   "cell_type": "code",
   "execution_count": 138,
   "metadata": {},
   "outputs": [],
   "source": [
    "sales_2015_formatted_df.to_gbq(f'{project_id}.advworks.stage_sales', project_id)"
   ]
  },
  {
   "cell_type": "code",
   "execution_count": 153,
   "metadata": {},
   "outputs": [],
   "source": [
    "def format_to_gbq(csv_uri, project_id, gbq_table):\n",
    "    df = pd.read_csv(csv_uri)\n",
    "    date_cols = ['OrderDate', 'StockDate']\n",
    "    for col in date_cols:\n",
    "        df[col] = df[col].str.replace('/', '-')\n",
    "        df[col] = pd.to_datetime(df[col])\n",
    "    df.to_gbq(gbq_table, project_id, if_exists='replace')"
   ]
  },
  {
   "cell_type": "code",
   "execution_count": 142,
   "metadata": {},
   "outputs": [],
   "source": [
    "sales_2015_uri = 'gs://lpkadvworks/data/AW_Sales/AdventureWorks_Sales_2015.csv'\n",
    "gbq_table_id = f'{project_id}.advworks.stage_sales'"
   ]
  },
  {
   "cell_type": "code",
   "execution_count": 144,
   "metadata": {},
   "outputs": [
    {
     "name": "stdout",
     "output_type": "stream",
     "text": [
      "Created table dataengongcp.advworks.sales\n"
     ]
    }
   ],
   "source": [
    "# create sales table\n",
    "schema=[\n",
    "        bigquery.SchemaField('OrderDate', 'TIMESTAMP'),\n",
    "        bigquery.SchemaField('StockDate', 'TIMESTAMP'),\n",
    "        bigquery.SchemaField('OrderNumber', 'STRING'),\n",
    "        bigquery.SchemaField('ProductKey', 'INTEGER'),\n",
    "        bigquery.SchemaField('CustomerKey', 'INTEGER'),\n",
    "        bigquery.SchemaField('TerritoryKey', 'INTEGER'),\n",
    "        bigquery.SchemaField('OrderLineItem', 'INTEGER'),\n",
    "        bigquery.SchemaField('OrderQuantity', 'INTEGER'),\n",
    "    ]\n",
    "table_id = 'dataengongcp.advworks.sales'\n",
    "table = bigquery.Table(table_id, schema=schema)\n",
    "table = client.create_table(table)  # Make an API request.\n",
    "print(\n",
    "    \"Created table {}.{}.{}\".format(table.project, table.dataset_id, table.table_id)\n",
    ")"
   ]
  },
  {
   "cell_type": "code",
   "execution_count": 145,
   "metadata": {},
   "outputs": [],
   "source": []
  },
  {
   "cell_type": "code",
   "execution_count": 147,
   "metadata": {},
   "outputs": [
    {
     "data": {
      "text/plain": [
       "<google.cloud.bigquery.table._EmptyRowIterator at 0x29b35beb100>"
      ]
     },
     "execution_count": 147,
     "metadata": {},
     "output_type": "execute_result"
    }
   ],
   "source": []
  },
  {
   "cell_type": "code",
   "execution_count": 156,
   "metadata": {},
   "outputs": [],
   "source": [
    "# function to upsert data from staging table to main table\n",
    "def merge_stage_into_sales():\n",
    "    # merge into sales table\n",
    "    merge_query = f'''\n",
    "        MERGE INTO `{project_id}.advworks.sales` AS s\n",
    "        USING `{project_id}.advworks.stage_sales` AS ss\n",
    "        ON s.OrderNumber = ss.OrderNumber\n",
    "        WHEN MATCHED THEN\n",
    "            UPDATE SET s.OrderDate = ss.OrderDate,\n",
    "                        s.StockDate = ss.StockDate,\n",
    "                        s.ProductKey = ss.ProductKey,\n",
    "                        s.CustomerKey = ss.CustomerKey,\n",
    "                        s.TerritoryKey = ss.TerritoryKey,\n",
    "                        s.OrderLineItem = ss.OrderLineItem,\n",
    "                        s.OrderQuantity = ss.OrderQuantity\n",
    "        WHEN NOT MATCHED THEN\n",
    "            INSERT (OrderDate, StockDate, OrderNumber, ProductKey, CustomerKey, TerritoryKey, OrderLineItem, OrderQuantity)\n",
    "            VALUES (ss.OrderDate, ss.StockDate, ss.OrderNumber, ss.ProductKey, ss.CustomerKey, ss.TerritoryKey, ss.OrderLineItem, ss.OrderQuantity)\n",
    "    '''\n",
    "    job_config = bigquery.QueryJobConfig()\n",
    "    job_config.priority = bigquery.QueryPriority.BATCH\n",
    "    query_job = client.query(merge_query, job_config=job_config)\n",
    "    query_job.result()"
   ]
  },
  {
   "cell_type": "code",
   "execution_count": 152,
   "metadata": {},
   "outputs": [
    {
     "data": {
      "text/html": [
       "<div>\n",
       "<style scoped>\n",
       "    .dataframe tbody tr th:only-of-type {\n",
       "        vertical-align: middle;\n",
       "    }\n",
       "\n",
       "    .dataframe tbody tr th {\n",
       "        vertical-align: top;\n",
       "    }\n",
       "\n",
       "    .dataframe thead th {\n",
       "        text-align: right;\n",
       "    }\n",
       "</style>\n",
       "<table border=\"1\" class=\"dataframe\">\n",
       "  <thead>\n",
       "    <tr style=\"text-align: right;\">\n",
       "      <th></th>\n",
       "      <th>OrderDate</th>\n",
       "      <th>StockDate</th>\n",
       "      <th>OrderNumber</th>\n",
       "      <th>ProductKey</th>\n",
       "      <th>CustomerKey</th>\n",
       "      <th>TerritoryKey</th>\n",
       "      <th>OrderLineItem</th>\n",
       "      <th>OrderQuantity</th>\n",
       "    </tr>\n",
       "  </thead>\n",
       "  <tbody>\n",
       "    <tr>\n",
       "      <th>0</th>\n",
       "      <td>1/1/2016</td>\n",
       "      <td>10/17/2002</td>\n",
       "      <td>SO48797</td>\n",
       "      <td>385</td>\n",
       "      <td>14335</td>\n",
       "      <td>1</td>\n",
       "      <td>1</td>\n",
       "      <td>1</td>\n",
       "    </tr>\n",
       "    <tr>\n",
       "      <th>1</th>\n",
       "      <td>1/1/2016</td>\n",
       "      <td>9/30/2002</td>\n",
       "      <td>SO48802</td>\n",
       "      <td>383</td>\n",
       "      <td>24923</td>\n",
       "      <td>9</td>\n",
       "      <td>1</td>\n",
       "      <td>1</td>\n",
       "    </tr>\n",
       "    <tr>\n",
       "      <th>2</th>\n",
       "      <td>1/1/2016</td>\n",
       "      <td>11/29/2002</td>\n",
       "      <td>SO48801</td>\n",
       "      <td>326</td>\n",
       "      <td>15493</td>\n",
       "      <td>1</td>\n",
       "      <td>1</td>\n",
       "      <td>1</td>\n",
       "    </tr>\n",
       "    <tr>\n",
       "      <th>3</th>\n",
       "      <td>1/1/2016</td>\n",
       "      <td>11/16/2002</td>\n",
       "      <td>SO48799</td>\n",
       "      <td>352</td>\n",
       "      <td>26708</td>\n",
       "      <td>4</td>\n",
       "      <td>1</td>\n",
       "      <td>1</td>\n",
       "    </tr>\n",
       "    <tr>\n",
       "      <th>4</th>\n",
       "      <td>1/1/2016</td>\n",
       "      <td>12/16/2002</td>\n",
       "      <td>SO48798</td>\n",
       "      <td>369</td>\n",
       "      <td>23332</td>\n",
       "      <td>9</td>\n",
       "      <td>1</td>\n",
       "      <td>1</td>\n",
       "    </tr>\n",
       "  </tbody>\n",
       "</table>\n",
       "</div>"
      ],
      "text/plain": [
       "  OrderDate   StockDate OrderNumber  ProductKey  CustomerKey  TerritoryKey  \\\n",
       "0  1/1/2016  10/17/2002     SO48797         385        14335             1   \n",
       "1  1/1/2016   9/30/2002     SO48802         383        24923             9   \n",
       "2  1/1/2016  11/29/2002     SO48801         326        15493             1   \n",
       "3  1/1/2016  11/16/2002     SO48799         352        26708             4   \n",
       "4  1/1/2016  12/16/2002     SO48798         369        23332             9   \n",
       "\n",
       "   OrderLineItem  OrderQuantity  \n",
       "0              1              1  \n",
       "1              1              1  \n",
       "2              1              1  \n",
       "3              1              1  \n",
       "4              1              1  "
      ]
     },
     "execution_count": 152,
     "metadata": {},
     "output_type": "execute_result"
    }
   ],
   "source": [
    "# format_to_gbq(sales_2015_uri, project_id, gbq_table_id)\n",
    "df_16 = pd.read_csv('gs://lpkadvworks/data/AW_Sales/AdventureWorks_Sales_2016.csv')\n",
    "df_16.head()"
   ]
  },
  {
   "cell_type": "code",
   "execution_count": 154,
   "metadata": {},
   "outputs": [],
   "source": [
    "sales_2016_uri = 'gs://lpkadvworks/data/AW_Sales/AdventureWorks_Sales_2016.csv'\n",
    "gbq_table_id = f'{project_id}.advworks.stage_sales'\n",
    "format_to_gbq(sales_2016_uri, project_id, gbq_table_id)"
   ]
  },
  {
   "cell_type": "code",
   "execution_count": 157,
   "metadata": {},
   "outputs": [],
   "source": [
    "merge_stage_into_sales()"
   ]
  },
  {
   "cell_type": "code",
   "execution_count": 158,
   "metadata": {},
   "outputs": [],
   "source": [
    "def print_dataset_details(project_id):\n",
    "    datasets = list(client.list_datasets())\n",
    "    counter = 0\n",
    "    table_counter = 0\n",
    "    print(f'There are {len(datasets)} datasets in {project_id.upper()} project')\n",
    "    for dataset in datasets:\n",
    "        counter += 1\n",
    "        print(f'dataset {counter}: {dataset.dataset_id}')\n",
    "        print('............................................')\n",
    "        tables = list(client.list_tables(dataset))\n",
    "        print(f'There are {len(tables)} tables in {dataset.dataset_id} dataset')\n",
    "        for table in tables:\n",
    "            table_counter += 1\n",
    "            print(f'table {table_counter}: {table.table_id}')"
   ]
  },
  {
   "cell_type": "code",
   "execution_count": null,
   "metadata": {},
   "outputs": [],
   "source": [
    "# perform test query\n",
    "QUERY = (\n",
    "    f'SELECT * FROM `{project_id}.retail.orders`'\n",
    "    'LIMIT 10'\n",
    ")\n",
    "query_job = client.query(QUERY)\n",
    "rows = query_job.result()"
   ]
  },
  {
   "cell_type": "code",
   "execution_count": null,
   "metadata": {},
   "outputs": [],
   "source": [
    "for row in rows:\n",
    "    print(row.values())"
   ]
  },
  {
   "cell_type": "code",
   "execution_count": null,
   "metadata": {},
   "outputs": [],
   "source": [
    "# create new dataset advworks\n",
    "advworks_dataset = bigquery.Dataset(f'{project_id}.advworks')\n",
    "advworks_dataset.location = 'US'\n",
    "advworks_dataset = client.create_dataset(advworks_dataset, timeout=30)"
   ]
  },
  {
   "cell_type": "code",
   "execution_count": 159,
   "metadata": {},
   "outputs": [
    {
     "name": "stdout",
     "output_type": "stream",
     "text": [
      "There are 3 datasets in DATAENGONGCP project\n",
      "dataset 1: advworks\n",
      "............................................\n",
      "There are 2 tables in advworks dataset\n",
      "table 1: sales\n",
      "table 2: stage_sales\n",
      "dataset 2: retail\n",
      "............................................\n",
      "There are 3 tables in retail dataset\n",
      "table 3: daily_product_revenue\n",
      "table 4: order_items\n",
      "table 5: orders\n",
      "dataset 3: sms_db\n",
      "............................................\n",
      "There are 3 tables in sms_db dataset\n",
      "table 6: users\n",
      "table 7: users_duplicate\n",
      "table 8: users_stg\n"
     ]
    }
   ],
   "source": [
    "print_dataset_details(project_id)"
   ]
  },
  {
   "cell_type": "code",
   "execution_count": 84,
   "metadata": {},
   "outputs": [],
   "source": [
    "# create tables\n",
    "table_id = f'{project_id}.advworks.sales'\n",
    "\n",
    "jobs_config = bigquery.LoadJobConfig(\n",
    "    schema=[\n",
    "        bigquery.SchemaField('OrderDate', 'STRING'),\n",
    "        bigquery.SchemaField('StockDate', 'STRING'),\n",
    "        bigquery.SchemaField('OrderNumber', 'STRING'),\n",
    "        bigquery.SchemaField('ProductKey', 'STRING'),\n",
    "        bigquery.SchemaField('CustomerKey', 'STRING'),\n",
    "        bigquery.SchemaField('TerritoryKey', 'STRING'),\n",
    "        bigquery.SchemaField('OrderLineItem', 'STRING'),\n",
    "        bigquery.SchemaField('OrderQuantity', 'STRING'),\n",
    "    ]\n",
    ")\n",
    "\n",
    "# job_config = bigquery.LoadJobConfig(\n",
    "#     source_format=bigquery.SourceFormat.PARQUET,\n",
    "# )\n",
    "file_uri = 'gs://lpkadvworks/data/AW_Sales/AdventureWorks_Sales_formatted_2015.csv'"
   ]
  },
  {
   "cell_type": "code",
   "execution_count": 85,
   "metadata": {},
   "outputs": [
    {
     "data": {
      "text/plain": [
       "LoadJob<project=dataengongcp, location=US, id=30fa7a06-eaaf-4bb9-872f-575bb43ceae4>"
      ]
     },
     "execution_count": 85,
     "metadata": {},
     "output_type": "execute_result"
    }
   ],
   "source": [
    "load_job = client.load_table_from_uri(\n",
    "    file_uri, table_id, job_config=jobs_config\n",
    ")\n",
    "load_job.result()"
   ]
  },
  {
   "cell_type": "code",
   "execution_count": 86,
   "metadata": {},
   "outputs": [
    {
     "name": "stdout",
     "output_type": "stream",
     "text": [
      "Loaded 2631 rows to table dataengongcp.advworks.sales\n"
     ]
    }
   ],
   "source": [
    "sales_table = client.get_table(table_id)\n",
    "print(f'Loaded {sales_table.num_rows} rows to table {table_id}')"
   ]
  },
  {
   "cell_type": "code",
   "execution_count": null,
   "metadata": {},
   "outputs": [],
   "source": []
  },
  {
   "cell_type": "code",
   "execution_count": null,
   "metadata": {},
   "outputs": [],
   "source": [
    "# validate by reading table from bigquery using pandas\n",
    "\n"
   ]
  },
  {
   "cell_type": "code",
   "execution_count": null,
   "metadata": {},
   "outputs": [],
   "source": []
  },
  {
   "cell_type": "code",
   "execution_count": 100,
   "metadata": {},
   "outputs": [
    {
     "data": {
      "text/html": [
       "<div>\n",
       "<style scoped>\n",
       "    .dataframe tbody tr th:only-of-type {\n",
       "        vertical-align: middle;\n",
       "    }\n",
       "\n",
       "    .dataframe tbody tr th {\n",
       "        vertical-align: top;\n",
       "    }\n",
       "\n",
       "    .dataframe thead th {\n",
       "        text-align: right;\n",
       "    }\n",
       "</style>\n",
       "<table border=\"1\" class=\"dataframe\">\n",
       "  <thead>\n",
       "    <tr style=\"text-align: right;\">\n",
       "      <th></th>\n",
       "      <th>OrderDate</th>\n",
       "      <th>StockDate</th>\n",
       "      <th>OrderNumber</th>\n",
       "      <th>ProductKey</th>\n",
       "      <th>CustomerKey</th>\n",
       "      <th>TerritoryKey</th>\n",
       "      <th>OrderLineItem</th>\n",
       "      <th>OrderQuantity</th>\n",
       "    </tr>\n",
       "  </thead>\n",
       "  <tbody>\n",
       "    <tr>\n",
       "      <th>0</th>\n",
       "      <td>2015-01-04</td>\n",
       "      <td>2001-09-15</td>\n",
       "      <td>SO45098</td>\n",
       "      <td>310</td>\n",
       "      <td>29167</td>\n",
       "      <td>1</td>\n",
       "      <td>1</td>\n",
       "      <td>1</td>\n",
       "    </tr>\n",
       "    <tr>\n",
       "      <th>1</th>\n",
       "      <td>2015-01-06</td>\n",
       "      <td>2001-09-24</td>\n",
       "      <td>SO45103</td>\n",
       "      <td>310</td>\n",
       "      <td>29140</td>\n",
       "      <td>1</td>\n",
       "      <td>1</td>\n",
       "      <td>1</td>\n",
       "    </tr>\n",
       "    <tr>\n",
       "      <th>2</th>\n",
       "      <td>2015-01-08</td>\n",
       "      <td>2001-11-01</td>\n",
       "      <td>SO45114</td>\n",
       "      <td>310</td>\n",
       "      <td>29146</td>\n",
       "      <td>1</td>\n",
       "      <td>1</td>\n",
       "      <td>1</td>\n",
       "    </tr>\n",
       "    <tr>\n",
       "      <th>3</th>\n",
       "      <td>2015-01-09</td>\n",
       "      <td>2001-09-24</td>\n",
       "      <td>SO45121</td>\n",
       "      <td>310</td>\n",
       "      <td>29169</td>\n",
       "      <td>1</td>\n",
       "      <td>1</td>\n",
       "      <td>1</td>\n",
       "    </tr>\n",
       "    <tr>\n",
       "      <th>4</th>\n",
       "      <td>2015-01-14</td>\n",
       "      <td>2001-12-25</td>\n",
       "      <td>SO45152</td>\n",
       "      <td>310</td>\n",
       "      <td>29276</td>\n",
       "      <td>1</td>\n",
       "      <td>1</td>\n",
       "      <td>1</td>\n",
       "    </tr>\n",
       "  </tbody>\n",
       "</table>\n",
       "</div>"
      ],
      "text/plain": [
       "    OrderDate   StockDate OrderNumber ProductKey CustomerKey TerritoryKey  \\\n",
       "0  2015-01-04  2001-09-15     SO45098        310       29167            1   \n",
       "1  2015-01-06  2001-09-24     SO45103        310       29140            1   \n",
       "2  2015-01-08  2001-11-01     SO45114        310       29146            1   \n",
       "3  2015-01-09  2001-09-24     SO45121        310       29169            1   \n",
       "4  2015-01-14  2001-12-25     SO45152        310       29276            1   \n",
       "\n",
       "  OrderLineItem OrderQuantity  \n",
       "0             1             1  \n",
       "1             1             1  \n",
       "2             1             1  \n",
       "3             1             1  \n",
       "4             1             1  "
      ]
     },
     "execution_count": 100,
     "metadata": {},
     "output_type": "execute_result"
    }
   ],
   "source": [
    "query = f'''\n",
    "    SELECT *\n",
    "    FROM `{project_id}.advworks.sales`\n",
    "'''\n",
    "df = pd.read_gbq(query, project_id=project_id)\n",
    "df.head()"
   ]
  },
  {
   "cell_type": "code",
   "execution_count": 101,
   "metadata": {},
   "outputs": [
    {
     "data": {
      "text/plain": [
       "1                2630\n",
       "OrderQuantity       1\n",
       "Name: OrderQuantity, dtype: int64"
      ]
     },
     "execution_count": 101,
     "metadata": {},
     "output_type": "execute_result"
    }
   ],
   "source": [
    "df['OrderQuantity'].value_counts()"
   ]
  },
  {
   "cell_type": "code",
   "execution_count": 102,
   "metadata": {},
   "outputs": [
    {
     "data": {
      "text/html": [
       "<div>\n",
       "<style scoped>\n",
       "    .dataframe tbody tr th:only-of-type {\n",
       "        vertical-align: middle;\n",
       "    }\n",
       "\n",
       "    .dataframe tbody tr th {\n",
       "        vertical-align: top;\n",
       "    }\n",
       "\n",
       "    .dataframe thead th {\n",
       "        text-align: right;\n",
       "    }\n",
       "</style>\n",
       "<table border=\"1\" class=\"dataframe\">\n",
       "  <thead>\n",
       "    <tr style=\"text-align: right;\">\n",
       "      <th></th>\n",
       "      <th>OrderDate</th>\n",
       "      <th>StockDate</th>\n",
       "      <th>OrderNumber</th>\n",
       "      <th>ProductKey</th>\n",
       "      <th>CustomerKey</th>\n",
       "      <th>TerritoryKey</th>\n",
       "      <th>OrderLineItem</th>\n",
       "      <th>OrderQuantity</th>\n",
       "    </tr>\n",
       "  </thead>\n",
       "  <tbody>\n",
       "    <tr>\n",
       "      <th>2630</th>\n",
       "      <td>OrderDate</td>\n",
       "      <td>StockDate</td>\n",
       "      <td>OrderNumber</td>\n",
       "      <td>ProductKey</td>\n",
       "      <td>CustomerKey</td>\n",
       "      <td>TerritoryKey</td>\n",
       "      <td>OrderLineItem</td>\n",
       "      <td>OrderQuantity</td>\n",
       "    </tr>\n",
       "  </tbody>\n",
       "</table>\n",
       "</div>"
      ],
      "text/plain": [
       "      OrderDate  StockDate  OrderNumber  ProductKey  CustomerKey  \\\n",
       "2630  OrderDate  StockDate  OrderNumber  ProductKey  CustomerKey   \n",
       "\n",
       "      TerritoryKey  OrderLineItem  OrderQuantity  \n",
       "2630  TerritoryKey  OrderLineItem  OrderQuantity  "
      ]
     },
     "execution_count": 102,
     "metadata": {},
     "output_type": "execute_result"
    }
   ],
   "source": [
    "df.loc[df['OrderQuantity'] == 'OrderQuantity']"
   ]
  },
  {
   "cell_type": "code",
   "execution_count": 97,
   "metadata": {},
   "outputs": [
    {
     "data": {
      "text/html": [
       "<div>\n",
       "<style scoped>\n",
       "    .dataframe tbody tr th:only-of-type {\n",
       "        vertical-align: middle;\n",
       "    }\n",
       "\n",
       "    .dataframe tbody tr th {\n",
       "        vertical-align: top;\n",
       "    }\n",
       "\n",
       "    .dataframe thead th {\n",
       "        text-align: right;\n",
       "    }\n",
       "</style>\n",
       "<table border=\"1\" class=\"dataframe\">\n",
       "  <thead>\n",
       "    <tr style=\"text-align: right;\">\n",
       "      <th></th>\n",
       "      <th>OrderDate</th>\n",
       "      <th>StockDate</th>\n",
       "      <th>OrderNumber</th>\n",
       "      <th>ProductKey</th>\n",
       "      <th>CustomerKey</th>\n",
       "      <th>TerritoryKey</th>\n",
       "      <th>OrderLineItem</th>\n",
       "      <th>OrderQuantity</th>\n",
       "    </tr>\n",
       "  </thead>\n",
       "  <tbody>\n",
       "    <tr>\n",
       "      <th>0</th>\n",
       "      <td>2015-01-04</td>\n",
       "      <td>2001-09-15</td>\n",
       "      <td>SO45098</td>\n",
       "      <td>310</td>\n",
       "      <td>29167</td>\n",
       "      <td>1</td>\n",
       "      <td>1</td>\n",
       "      <td>1</td>\n",
       "    </tr>\n",
       "    <tr>\n",
       "      <th>1</th>\n",
       "      <td>2015-01-06</td>\n",
       "      <td>2001-09-24</td>\n",
       "      <td>SO45103</td>\n",
       "      <td>310</td>\n",
       "      <td>29140</td>\n",
       "      <td>1</td>\n",
       "      <td>1</td>\n",
       "      <td>1</td>\n",
       "    </tr>\n",
       "    <tr>\n",
       "      <th>2</th>\n",
       "      <td>2015-01-08</td>\n",
       "      <td>2001-11-01</td>\n",
       "      <td>SO45114</td>\n",
       "      <td>310</td>\n",
       "      <td>29146</td>\n",
       "      <td>1</td>\n",
       "      <td>1</td>\n",
       "      <td>1</td>\n",
       "    </tr>\n",
       "    <tr>\n",
       "      <th>3</th>\n",
       "      <td>2015-01-09</td>\n",
       "      <td>2001-09-24</td>\n",
       "      <td>SO45121</td>\n",
       "      <td>310</td>\n",
       "      <td>29169</td>\n",
       "      <td>1</td>\n",
       "      <td>1</td>\n",
       "      <td>1</td>\n",
       "    </tr>\n",
       "    <tr>\n",
       "      <th>4</th>\n",
       "      <td>2015-01-14</td>\n",
       "      <td>2001-12-25</td>\n",
       "      <td>SO45152</td>\n",
       "      <td>310</td>\n",
       "      <td>29276</td>\n",
       "      <td>1</td>\n",
       "      <td>1</td>\n",
       "      <td>1</td>\n",
       "    </tr>\n",
       "  </tbody>\n",
       "</table>\n",
       "</div>"
      ],
      "text/plain": [
       "    OrderDate   StockDate OrderNumber ProductKey CustomerKey TerritoryKey  \\\n",
       "0  2015-01-04  2001-09-15     SO45098        310       29167            1   \n",
       "1  2015-01-06  2001-09-24     SO45103        310       29140            1   \n",
       "2  2015-01-08  2001-11-01     SO45114        310       29146            1   \n",
       "3  2015-01-09  2001-09-24     SO45121        310       29169            1   \n",
       "4  2015-01-14  2001-12-25     SO45152        310       29276            1   \n",
       "\n",
       "  OrderLineItem OrderQuantity  \n",
       "0             1             1  \n",
       "1             1             1  \n",
       "2             1             1  \n",
       "3             1             1  \n",
       "4             1             1  "
      ]
     },
     "execution_count": 97,
     "metadata": {},
     "output_type": "execute_result"
    }
   ],
   "source": [
    "query = f'''\n",
    "    SELECT ProductKey,\n",
    "        COUNT(ProductKey) as NumOrders\n",
    "    FROM `{project_id}.advworks.sales`\n",
    "    GROUP BY 1\n",
    "    ORDER BY COUNT(OrderNumber) DESC\n",
    "'''\n",
    "top_date_quantity_df = pd.read_gbq(query, project_id=project_id)\n"
   ]
  },
  {
   "cell_type": "code",
   "execution_count": 99,
   "metadata": {},
   "outputs": [
    {
     "data": {
      "text/html": [
       "<div>\n",
       "<style scoped>\n",
       "    .dataframe tbody tr th:only-of-type {\n",
       "        vertical-align: middle;\n",
       "    }\n",
       "\n",
       "    .dataframe tbody tr th {\n",
       "        vertical-align: top;\n",
       "    }\n",
       "\n",
       "    .dataframe thead th {\n",
       "        text-align: right;\n",
       "    }\n",
       "</style>\n",
       "<table border=\"1\" class=\"dataframe\">\n",
       "  <thead>\n",
       "    <tr style=\"text-align: right;\">\n",
       "      <th></th>\n",
       "      <th>ProductKey</th>\n",
       "      <th>NumOrders</th>\n",
       "    </tr>\n",
       "  </thead>\n",
       "  <tbody>\n",
       "    <tr>\n",
       "      <th>40</th>\n",
       "      <td>322</td>\n",
       "      <td>24</td>\n",
       "    </tr>\n",
       "    <tr>\n",
       "      <th>41</th>\n",
       "      <td>330</td>\n",
       "      <td>24</td>\n",
       "    </tr>\n",
       "    <tr>\n",
       "      <th>42</th>\n",
       "      <td>346</td>\n",
       "      <td>24</td>\n",
       "    </tr>\n",
       "    <tr>\n",
       "      <th>43</th>\n",
       "      <td>347</td>\n",
       "      <td>22</td>\n",
       "    </tr>\n",
       "    <tr>\n",
       "      <th>44</th>\n",
       "      <td>ProductKey</td>\n",
       "      <td>1</td>\n",
       "    </tr>\n",
       "  </tbody>\n",
       "</table>\n",
       "</div>"
      ],
      "text/plain": [
       "    ProductKey  NumOrders\n",
       "40         322         24\n",
       "41         330         24\n",
       "42         346         24\n",
       "43         347         22\n",
       "44  ProductKey          1"
      ]
     },
     "execution_count": 99,
     "metadata": {},
     "output_type": "execute_result"
    }
   ],
   "source": [
    "top_date_quantity_df.tail()"
   ]
  },
  {
   "cell_type": "code",
   "execution_count": null,
   "metadata": {},
   "outputs": [],
   "source": []
  }
 ],
 "metadata": {
  "kernelspec": {
   "display_name": "advworks-deg-venv",
   "language": "python",
   "name": "python3"
  },
  "language_info": {
   "codemirror_mode": {
    "name": "ipython",
    "version": 3
   },
   "file_extension": ".py",
   "mimetype": "text/x-python",
   "name": "python",
   "nbconvert_exporter": "python",
   "pygments_lexer": "ipython3",
   "version": "3.9.7"
  },
  "orig_nbformat": 4,
  "vscode": {
   "interpreter": {
    "hash": "426029abc329e5a04b1f11f91aadccfc18968ac65d726452477c5064d503c039"
   }
  }
 },
 "nbformat": 4,
 "nbformat_minor": 2
}
