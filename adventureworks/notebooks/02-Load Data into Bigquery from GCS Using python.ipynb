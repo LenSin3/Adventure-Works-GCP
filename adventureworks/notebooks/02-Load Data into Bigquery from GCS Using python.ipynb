{
 "cells": [
  {
   "cell_type": "code",
   "execution_count": 90,
   "metadata": {},
   "outputs": [],
   "source": [
    "# import depenendencies\n",
    "from google.cloud import bigquery\n",
    "import pandas as pd"
   ]
  },
  {
   "cell_type": "code",
   "execution_count": 91,
   "metadata": {},
   "outputs": [],
   "source": [
    "# project id\n",
    "project_id = 'dataengongcp'"
   ]
  },
  {
   "cell_type": "code",
   "execution_count": 4,
   "metadata": {},
   "outputs": [],
   "source": [
    "# instantiate bigquery client\n",
    "client = bigquery.Client()"
   ]
  },
  {
   "cell_type": "code",
   "execution_count": 1,
   "metadata": {},
   "outputs": [
    {
     "name": "stdout",
     "output_type": "stream",
     "text": [
      "gs://lpkadvworks/data/:\n",
      "\n",
      "gs://lpkadvworks/data/other_data/:\n",
      "gs://lpkadvworks/data/other_data/AdventureWorks_Calendar.csv\n",
      "gs://lpkadvworks/data/other_data/AdventureWorks_Customers.csv\n",
      "gs://lpkadvworks/data/other_data/AdventureWorks_Product_Categories.csv\n",
      "gs://lpkadvworks/data/other_data/AdventureWorks_Product_Subcategories.csv\n",
      "gs://lpkadvworks/data/other_data/AdventureWorks_Products.csv\n",
      "gs://lpkadvworks/data/other_data/AdventureWorks_Returns.csv\n",
      "gs://lpkadvworks/data/other_data/AdventureWorks_Territories.csv\n",
      "\n",
      "gs://lpkadvworks/data/sales_stage/:\n",
      "gs://lpkadvworks/data/sales_stage/AdventureWorks_Sales_2015.csv\n",
      "gs://lpkadvworks/data/sales_stage/AdventureWorks_Sales_2016.csv\n",
      "gs://lpkadvworks/data/sales_stage/AdventureWorks_Sales_2017.csv\n"
     ]
    }
   ],
   "source": [
    "!gsutil ls -r gs://lpkadvworks"
   ]
  },
  {
   "cell_type": "code",
   "execution_count": 18,
   "metadata": {},
   "outputs": [
    {
     "data": {
      "text/html": [
       "<div>\n",
       "<style scoped>\n",
       "    .dataframe tbody tr th:only-of-type {\n",
       "        vertical-align: middle;\n",
       "    }\n",
       "\n",
       "    .dataframe tbody tr th {\n",
       "        vertical-align: top;\n",
       "    }\n",
       "\n",
       "    .dataframe thead th {\n",
       "        text-align: right;\n",
       "    }\n",
       "</style>\n",
       "<table border=\"1\" class=\"dataframe\">\n",
       "  <thead>\n",
       "    <tr style=\"text-align: right;\">\n",
       "      <th></th>\n",
       "      <th>CustomerKey</th>\n",
       "      <th>Prefix</th>\n",
       "      <th>FirstName</th>\n",
       "      <th>LastName</th>\n",
       "      <th>BirthDate</th>\n",
       "      <th>MaritalStatus</th>\n",
       "      <th>Gender</th>\n",
       "      <th>EmailAddress</th>\n",
       "      <th>AnnualIncome</th>\n",
       "      <th>TotalChildren</th>\n",
       "      <th>EducationLevel</th>\n",
       "      <th>Occupation</th>\n",
       "      <th>HomeOwner</th>\n",
       "    </tr>\n",
       "  </thead>\n",
       "  <tbody>\n",
       "    <tr>\n",
       "      <th>0</th>\n",
       "      <td>11000</td>\n",
       "      <td>MR.</td>\n",
       "      <td>JON</td>\n",
       "      <td>YANG</td>\n",
       "      <td>4/8/1966</td>\n",
       "      <td>M</td>\n",
       "      <td>M</td>\n",
       "      <td>jon24@adventure-works.com</td>\n",
       "      <td>$90,000</td>\n",
       "      <td>2</td>\n",
       "      <td>Bachelors</td>\n",
       "      <td>Professional</td>\n",
       "      <td>Y</td>\n",
       "    </tr>\n",
       "    <tr>\n",
       "      <th>1</th>\n",
       "      <td>11001</td>\n",
       "      <td>MR.</td>\n",
       "      <td>EUGENE</td>\n",
       "      <td>HUANG</td>\n",
       "      <td>5/14/1965</td>\n",
       "      <td>S</td>\n",
       "      <td>M</td>\n",
       "      <td>eugene10@adventure-works.com</td>\n",
       "      <td>$60,000</td>\n",
       "      <td>3</td>\n",
       "      <td>Bachelors</td>\n",
       "      <td>Professional</td>\n",
       "      <td>N</td>\n",
       "    </tr>\n",
       "    <tr>\n",
       "      <th>2</th>\n",
       "      <td>11002</td>\n",
       "      <td>MR.</td>\n",
       "      <td>RUBEN</td>\n",
       "      <td>TORRES</td>\n",
       "      <td>8/12/1965</td>\n",
       "      <td>M</td>\n",
       "      <td>M</td>\n",
       "      <td>ruben35@adventure-works.com</td>\n",
       "      <td>$60,000</td>\n",
       "      <td>3</td>\n",
       "      <td>Bachelors</td>\n",
       "      <td>Professional</td>\n",
       "      <td>Y</td>\n",
       "    </tr>\n",
       "    <tr>\n",
       "      <th>3</th>\n",
       "      <td>11003</td>\n",
       "      <td>MS.</td>\n",
       "      <td>CHRISTY</td>\n",
       "      <td>ZHU</td>\n",
       "      <td>2/15/1968</td>\n",
       "      <td>S</td>\n",
       "      <td>F</td>\n",
       "      <td>christy12@adventure-works.com</td>\n",
       "      <td>$70,000</td>\n",
       "      <td>0</td>\n",
       "      <td>Bachelors</td>\n",
       "      <td>Professional</td>\n",
       "      <td>N</td>\n",
       "    </tr>\n",
       "    <tr>\n",
       "      <th>4</th>\n",
       "      <td>11004</td>\n",
       "      <td>MRS.</td>\n",
       "      <td>ELIZABETH</td>\n",
       "      <td>JOHNSON</td>\n",
       "      <td>8/8/1968</td>\n",
       "      <td>S</td>\n",
       "      <td>F</td>\n",
       "      <td>elizabeth5@adventure-works.com</td>\n",
       "      <td>$80,000</td>\n",
       "      <td>5</td>\n",
       "      <td>Bachelors</td>\n",
       "      <td>Professional</td>\n",
       "      <td>Y</td>\n",
       "    </tr>\n",
       "  </tbody>\n",
       "</table>\n",
       "</div>"
      ],
      "text/plain": [
       "   CustomerKey Prefix  FirstName LastName  BirthDate MaritalStatus Gender  \\\n",
       "0        11000    MR.        JON     YANG   4/8/1966             M      M   \n",
       "1        11001    MR.     EUGENE    HUANG  5/14/1965             S      M   \n",
       "2        11002    MR.      RUBEN   TORRES  8/12/1965             M      M   \n",
       "3        11003    MS.    CHRISTY      ZHU  2/15/1968             S      F   \n",
       "4        11004   MRS.  ELIZABETH  JOHNSON   8/8/1968             S      F   \n",
       "\n",
       "                     EmailAddress AnnualIncome  TotalChildren EducationLevel  \\\n",
       "0       jon24@adventure-works.com     $90,000               2      Bachelors   \n",
       "1    eugene10@adventure-works.com     $60,000               3      Bachelors   \n",
       "2     ruben35@adventure-works.com     $60,000               3      Bachelors   \n",
       "3   christy12@adventure-works.com     $70,000               0      Bachelors   \n",
       "4  elizabeth5@adventure-works.com     $80,000               5      Bachelors   \n",
       "\n",
       "     Occupation HomeOwner  \n",
       "0  Professional         Y  \n",
       "1  Professional         N  \n",
       "2  Professional         Y  \n",
       "3  Professional         N  \n",
       "4  Professional         Y  "
      ]
     },
     "execution_count": 18,
     "metadata": {},
     "output_type": "execute_result"
    }
   ],
   "source": [
    "# customers\n",
    "customers = pd.read_csv('gs://lpkadvworks/data/other_data/AdventureWorks_Customers.csv', encoding ='ISO-8859-1')\n",
    "customers.head()"
   ]
  },
  {
   "cell_type": "code",
   "execution_count": 19,
   "metadata": {},
   "outputs": [
    {
     "name": "stdout",
     "output_type": "stream",
     "text": [
      "<class 'pandas.core.frame.DataFrame'>\n",
      "RangeIndex: 18148 entries, 0 to 18147\n",
      "Data columns (total 13 columns):\n",
      " #   Column          Non-Null Count  Dtype \n",
      "---  ------          --------------  ----- \n",
      " 0   CustomerKey     18148 non-null  int64 \n",
      " 1   Prefix          18018 non-null  object\n",
      " 2   FirstName       18148 non-null  object\n",
      " 3   LastName        18148 non-null  object\n",
      " 4   BirthDate       18148 non-null  object\n",
      " 5   MaritalStatus   18148 non-null  object\n",
      " 6   Gender          18018 non-null  object\n",
      " 7   EmailAddress    18148 non-null  object\n",
      " 8   AnnualIncome    18148 non-null  object\n",
      " 9   TotalChildren   18148 non-null  int64 \n",
      " 10  EducationLevel  18148 non-null  object\n",
      " 11  Occupation      18148 non-null  object\n",
      " 12  HomeOwner       18148 non-null  object\n",
      "dtypes: int64(2), object(11)\n",
      "memory usage: 1.8+ MB\n"
     ]
    }
   ],
   "source": [
    "customers.info()\n",
    "# firstName, LastName to proper\n",
    "# convert birthdate to date\n",
    "# convert AnnualIncome, TotalChildren to Integer"
   ]
  },
  {
   "cell_type": "code",
   "execution_count": 20,
   "metadata": {},
   "outputs": [],
   "source": [
    "# make fist and last name title case\n",
    "customers['FirstName'] = customers['FirstName'].str.title()\n",
    "customers['LastName'] = customers['LastName'].str.title()\n"
   ]
  },
  {
   "cell_type": "code",
   "execution_count": 21,
   "metadata": {},
   "outputs": [],
   "source": [
    "# convert b irthdate to date\n",
    "customers['BirthDate'] = pd.to_datetime(customers['BirthDate'], yearfirst=True)\n"
   ]
  },
  {
   "cell_type": "code",
   "execution_count": 22,
   "metadata": {},
   "outputs": [
    {
     "name": "stderr",
     "output_type": "stream",
     "text": [
      "C:\\Users\\Leonard\\AppData\\Local\\Temp\\ipykernel_14340\\3674488624.py:2: FutureWarning: The default value of regex will change from True to False in a future version. In addition, single character regular expressions will *not* be treated as literal strings when regex=True.\n",
      "  customers['AnnualIncome'] = customers['AnnualIncome'].str.replace('$', '').str.replace(',','').str.strip().astype('int64')\n"
     ]
    }
   ],
   "source": [
    "# convert AnnualIncome to int64\n",
    "customers['AnnualIncome'] = customers['AnnualIncome'].str.replace('$', '').str.replace(',','').str.strip().astype('int64')\n"
   ]
  },
  {
   "cell_type": "code",
   "execution_count": 23,
   "metadata": {},
   "outputs": [
    {
     "name": "stdout",
     "output_type": "stream",
     "text": [
      "<class 'pandas.core.frame.DataFrame'>\n",
      "RangeIndex: 18148 entries, 0 to 18147\n",
      "Data columns (total 13 columns):\n",
      " #   Column          Non-Null Count  Dtype         \n",
      "---  ------          --------------  -----         \n",
      " 0   CustomerKey     18148 non-null  int64         \n",
      " 1   Prefix          18018 non-null  object        \n",
      " 2   FirstName       18148 non-null  object        \n",
      " 3   LastName        18148 non-null  object        \n",
      " 4   BirthDate       18148 non-null  datetime64[ns]\n",
      " 5   MaritalStatus   18148 non-null  object        \n",
      " 6   Gender          18018 non-null  object        \n",
      " 7   EmailAddress    18148 non-null  object        \n",
      " 8   AnnualIncome    18148 non-null  int64         \n",
      " 9   TotalChildren   18148 non-null  int64         \n",
      " 10  EducationLevel  18148 non-null  object        \n",
      " 11  Occupation      18148 non-null  object        \n",
      " 12  HomeOwner       18148 non-null  object        \n",
      "dtypes: datetime64[ns](1), int64(3), object(9)\n",
      "memory usage: 1.8+ MB\n"
     ]
    }
   ],
   "source": [
    "customers.info()"
   ]
  },
  {
   "cell_type": "code",
   "execution_count": 26,
   "metadata": {},
   "outputs": [
    {
     "name": "stdout",
     "output_type": "stream",
     "text": [
      "<class 'pandas.core.frame.DataFrame'>\n",
      "RangeIndex: 4 entries, 0 to 3\n",
      "Data columns (total 2 columns):\n",
      " #   Column              Non-Null Count  Dtype \n",
      "---  ------              --------------  ----- \n",
      " 0   ProductCategoryKey  4 non-null      int64 \n",
      " 1   CategoryName        4 non-null      object\n",
      "dtypes: int64(1), object(1)\n",
      "memory usage: 192.0+ bytes\n"
     ]
    }
   ],
   "source": [
    "# categories\n",
    "categories = pd.read_csv('gs://lpkadvworks/data/other_data/AdventureWorks_Product_Categories.csv')\n",
    "categories.info()"
   ]
  },
  {
   "cell_type": "code",
   "execution_count": 29,
   "metadata": {},
   "outputs": [
    {
     "data": {
      "text/html": [
       "<div>\n",
       "<style scoped>\n",
       "    .dataframe tbody tr th:only-of-type {\n",
       "        vertical-align: middle;\n",
       "    }\n",
       "\n",
       "    .dataframe tbody tr th {\n",
       "        vertical-align: top;\n",
       "    }\n",
       "\n",
       "    .dataframe thead th {\n",
       "        text-align: right;\n",
       "    }\n",
       "</style>\n",
       "<table border=\"1\" class=\"dataframe\">\n",
       "  <thead>\n",
       "    <tr style=\"text-align: right;\">\n",
       "      <th></th>\n",
       "      <th>ProductSubcategoryKey</th>\n",
       "      <th>SubcategoryName</th>\n",
       "      <th>ProductCategoryKey</th>\n",
       "    </tr>\n",
       "  </thead>\n",
       "  <tbody>\n",
       "    <tr>\n",
       "      <th>0</th>\n",
       "      <td>1</td>\n",
       "      <td>Mountain Bikes</td>\n",
       "      <td>1</td>\n",
       "    </tr>\n",
       "    <tr>\n",
       "      <th>1</th>\n",
       "      <td>2</td>\n",
       "      <td>Road Bikes</td>\n",
       "      <td>1</td>\n",
       "    </tr>\n",
       "    <tr>\n",
       "      <th>2</th>\n",
       "      <td>3</td>\n",
       "      <td>Touring Bikes</td>\n",
       "      <td>1</td>\n",
       "    </tr>\n",
       "    <tr>\n",
       "      <th>3</th>\n",
       "      <td>4</td>\n",
       "      <td>Handlebars</td>\n",
       "      <td>2</td>\n",
       "    </tr>\n",
       "    <tr>\n",
       "      <th>4</th>\n",
       "      <td>5</td>\n",
       "      <td>Bottom Brackets</td>\n",
       "      <td>2</td>\n",
       "    </tr>\n",
       "  </tbody>\n",
       "</table>\n",
       "</div>"
      ],
      "text/plain": [
       "   ProductSubcategoryKey  SubcategoryName  ProductCategoryKey\n",
       "0                      1   Mountain Bikes                   1\n",
       "1                      2       Road Bikes                   1\n",
       "2                      3    Touring Bikes                   1\n",
       "3                      4       Handlebars                   2\n",
       "4                      5  Bottom Brackets                   2"
      ]
     },
     "execution_count": 29,
     "metadata": {},
     "output_type": "execute_result"
    }
   ],
   "source": [
    "# subcategories\n",
    "subcats = pd.read_csv('gs://lpkadvworks/data/other_data/AdventureWorks_Product_Subcategories.csv')\n",
    "subcats.head()"
   ]
  },
  {
   "cell_type": "code",
   "execution_count": 55,
   "metadata": {},
   "outputs": [
    {
     "name": "stdout",
     "output_type": "stream",
     "text": [
      "<class 'pandas.core.frame.DataFrame'>\n",
      "RangeIndex: 293 entries, 0 to 292\n",
      "Data columns (total 11 columns):\n",
      " #   Column                 Non-Null Count  Dtype  \n",
      "---  ------                 --------------  -----  \n",
      " 0   ProductKey             293 non-null    int64  \n",
      " 1   ProductSubcategoryKey  293 non-null    int64  \n",
      " 2   ProductSKU             293 non-null    object \n",
      " 3   ProductName            293 non-null    object \n",
      " 4   ModelName              293 non-null    object \n",
      " 5   ProductDescription     293 non-null    object \n",
      " 6   ProductColor           243 non-null    object \n",
      " 7   ProductSize            293 non-null    object \n",
      " 8   ProductStyle           293 non-null    object \n",
      " 9   ProductCost            293 non-null    float64\n",
      " 10  ProductPrice           293 non-null    float64\n",
      "dtypes: float64(2), int64(2), object(7)\n",
      "memory usage: 25.3+ KB\n"
     ]
    }
   ],
   "source": [
    "# products\n",
    "products = pd.read_csv('gs://lpkadvworks/data/other_data/AdventureWorks_Products.csv')\n",
    "products.info()"
   ]
  },
  {
   "cell_type": "code",
   "execution_count": 56,
   "metadata": {},
   "outputs": [
    {
     "data": {
      "text/html": [
       "<div>\n",
       "<style scoped>\n",
       "    .dataframe tbody tr th:only-of-type {\n",
       "        vertical-align: middle;\n",
       "    }\n",
       "\n",
       "    .dataframe tbody tr th {\n",
       "        vertical-align: top;\n",
       "    }\n",
       "\n",
       "    .dataframe thead th {\n",
       "        text-align: right;\n",
       "    }\n",
       "</style>\n",
       "<table border=\"1\" class=\"dataframe\">\n",
       "  <thead>\n",
       "    <tr style=\"text-align: right;\">\n",
       "      <th></th>\n",
       "      <th>ProductKey</th>\n",
       "      <th>ProductSubcategoryKey</th>\n",
       "      <th>ProductSKU</th>\n",
       "      <th>ProductName</th>\n",
       "      <th>ModelName</th>\n",
       "      <th>ProductDescription</th>\n",
       "      <th>ProductColor</th>\n",
       "      <th>ProductSize</th>\n",
       "      <th>ProductStyle</th>\n",
       "      <th>ProductCost</th>\n",
       "      <th>ProductPrice</th>\n",
       "    </tr>\n",
       "  </thead>\n",
       "  <tbody>\n",
       "    <tr>\n",
       "      <th>0</th>\n",
       "      <td>214</td>\n",
       "      <td>31</td>\n",
       "      <td>HL-U509-R</td>\n",
       "      <td>Sport-100 Helmet, Red</td>\n",
       "      <td>Sport-100</td>\n",
       "      <td>Universal fit, well-vented, lightweight , snap...</td>\n",
       "      <td>Red</td>\n",
       "      <td>0</td>\n",
       "      <td>0</td>\n",
       "      <td>13.0863</td>\n",
       "      <td>34.9900</td>\n",
       "    </tr>\n",
       "    <tr>\n",
       "      <th>1</th>\n",
       "      <td>215</td>\n",
       "      <td>31</td>\n",
       "      <td>HL-U509</td>\n",
       "      <td>Sport-100 Helmet, Black</td>\n",
       "      <td>Sport-100</td>\n",
       "      <td>Universal fit, well-vented, lightweight , snap...</td>\n",
       "      <td>Black</td>\n",
       "      <td>0</td>\n",
       "      <td>0</td>\n",
       "      <td>12.0278</td>\n",
       "      <td>33.6442</td>\n",
       "    </tr>\n",
       "    <tr>\n",
       "      <th>2</th>\n",
       "      <td>218</td>\n",
       "      <td>23</td>\n",
       "      <td>SO-B909-M</td>\n",
       "      <td>Mountain Bike Socks, M</td>\n",
       "      <td>Mountain Bike Socks</td>\n",
       "      <td>Combination of natural and synthetic fibers st...</td>\n",
       "      <td>White</td>\n",
       "      <td>M</td>\n",
       "      <td>U</td>\n",
       "      <td>3.3963</td>\n",
       "      <td>9.5000</td>\n",
       "    </tr>\n",
       "    <tr>\n",
       "      <th>3</th>\n",
       "      <td>219</td>\n",
       "      <td>23</td>\n",
       "      <td>SO-B909-L</td>\n",
       "      <td>Mountain Bike Socks, L</td>\n",
       "      <td>Mountain Bike Socks</td>\n",
       "      <td>Combination of natural and synthetic fibers st...</td>\n",
       "      <td>White</td>\n",
       "      <td>L</td>\n",
       "      <td>U</td>\n",
       "      <td>3.3963</td>\n",
       "      <td>9.5000</td>\n",
       "    </tr>\n",
       "    <tr>\n",
       "      <th>4</th>\n",
       "      <td>220</td>\n",
       "      <td>31</td>\n",
       "      <td>HL-U509-B</td>\n",
       "      <td>Sport-100 Helmet, Blue</td>\n",
       "      <td>Sport-100</td>\n",
       "      <td>Universal fit, well-vented, lightweight , snap...</td>\n",
       "      <td>Blue</td>\n",
       "      <td>0</td>\n",
       "      <td>0</td>\n",
       "      <td>12.0278</td>\n",
       "      <td>33.6442</td>\n",
       "    </tr>\n",
       "  </tbody>\n",
       "</table>\n",
       "</div>"
      ],
      "text/plain": [
       "   ProductKey  ProductSubcategoryKey ProductSKU              ProductName  \\\n",
       "0         214                     31  HL-U509-R    Sport-100 Helmet, Red   \n",
       "1         215                     31    HL-U509  Sport-100 Helmet, Black   \n",
       "2         218                     23  SO-B909-M   Mountain Bike Socks, M   \n",
       "3         219                     23  SO-B909-L   Mountain Bike Socks, L   \n",
       "4         220                     31  HL-U509-B   Sport-100 Helmet, Blue   \n",
       "\n",
       "             ModelName                                 ProductDescription  \\\n",
       "0            Sport-100  Universal fit, well-vented, lightweight , snap...   \n",
       "1            Sport-100  Universal fit, well-vented, lightweight , snap...   \n",
       "2  Mountain Bike Socks  Combination of natural and synthetic fibers st...   \n",
       "3  Mountain Bike Socks  Combination of natural and synthetic fibers st...   \n",
       "4            Sport-100  Universal fit, well-vented, lightweight , snap...   \n",
       "\n",
       "  ProductColor ProductSize ProductStyle  ProductCost  ProductPrice  \n",
       "0          Red           0            0      13.0863       34.9900  \n",
       "1        Black           0            0      12.0278       33.6442  \n",
       "2        White           M            U       3.3963        9.5000  \n",
       "3        White           L            U       3.3963        9.5000  \n",
       "4         Blue           0            0      12.0278       33.6442  "
      ]
     },
     "execution_count": 56,
     "metadata": {},
     "output_type": "execute_result"
    }
   ],
   "source": [
    "products.head()"
   ]
  },
  {
   "cell_type": "code",
   "execution_count": 57,
   "metadata": {},
   "outputs": [],
   "source": [
    "# products.loc[products['ProductColor'].isna()].head()\n",
    "products['ProductColor'] = products['ProductColor'].fillna('NoColor')\n"
   ]
  },
  {
   "cell_type": "code",
   "execution_count": 59,
   "metadata": {},
   "outputs": [
    {
     "name": "stdout",
     "output_type": "stream",
     "text": [
      "<class 'pandas.core.frame.DataFrame'>\n",
      "RangeIndex: 293 entries, 0 to 292\n",
      "Data columns (total 11 columns):\n",
      " #   Column                 Non-Null Count  Dtype  \n",
      "---  ------                 --------------  -----  \n",
      " 0   ProductKey             293 non-null    int64  \n",
      " 1   ProductSubcategoryKey  293 non-null    int64  \n",
      " 2   ProductSKU             293 non-null    object \n",
      " 3   ProductName            293 non-null    object \n",
      " 4   ModelName              293 non-null    object \n",
      " 5   ProductDescription     293 non-null    object \n",
      " 6   ProductColor           293 non-null    object \n",
      " 7   ProductSize            293 non-null    object \n",
      " 8   ProductStyle           293 non-null    object \n",
      " 9   ProductCost            293 non-null    float64\n",
      " 10  ProductPrice           293 non-null    float64\n",
      "dtypes: float64(2), int64(2), object(7)\n",
      "memory usage: 25.3+ KB\n"
     ]
    }
   ],
   "source": [
    "products.info()"
   ]
  },
  {
   "cell_type": "code",
   "execution_count": 60,
   "metadata": {},
   "outputs": [
    {
     "data": {
      "text/html": [
       "<div>\n",
       "<style scoped>\n",
       "    .dataframe tbody tr th:only-of-type {\n",
       "        vertical-align: middle;\n",
       "    }\n",
       "\n",
       "    .dataframe tbody tr th {\n",
       "        vertical-align: top;\n",
       "    }\n",
       "\n",
       "    .dataframe thead th {\n",
       "        text-align: right;\n",
       "    }\n",
       "</style>\n",
       "<table border=\"1\" class=\"dataframe\">\n",
       "  <thead>\n",
       "    <tr style=\"text-align: right;\">\n",
       "      <th></th>\n",
       "      <th>ReturnDate</th>\n",
       "      <th>TerritoryKey</th>\n",
       "      <th>ProductKey</th>\n",
       "      <th>ReturnQuantity</th>\n",
       "    </tr>\n",
       "  </thead>\n",
       "  <tbody>\n",
       "    <tr>\n",
       "      <th>0</th>\n",
       "      <td>1/18/2015</td>\n",
       "      <td>9</td>\n",
       "      <td>312</td>\n",
       "      <td>1</td>\n",
       "    </tr>\n",
       "    <tr>\n",
       "      <th>1</th>\n",
       "      <td>1/18/2015</td>\n",
       "      <td>10</td>\n",
       "      <td>310</td>\n",
       "      <td>1</td>\n",
       "    </tr>\n",
       "    <tr>\n",
       "      <th>2</th>\n",
       "      <td>1/21/2015</td>\n",
       "      <td>8</td>\n",
       "      <td>346</td>\n",
       "      <td>1</td>\n",
       "    </tr>\n",
       "    <tr>\n",
       "      <th>3</th>\n",
       "      <td>1/22/2015</td>\n",
       "      <td>4</td>\n",
       "      <td>311</td>\n",
       "      <td>1</td>\n",
       "    </tr>\n",
       "    <tr>\n",
       "      <th>4</th>\n",
       "      <td>2/2/2015</td>\n",
       "      <td>6</td>\n",
       "      <td>312</td>\n",
       "      <td>1</td>\n",
       "    </tr>\n",
       "  </tbody>\n",
       "</table>\n",
       "</div>"
      ],
      "text/plain": [
       "  ReturnDate  TerritoryKey  ProductKey  ReturnQuantity\n",
       "0  1/18/2015             9         312               1\n",
       "1  1/18/2015            10         310               1\n",
       "2  1/21/2015             8         346               1\n",
       "3  1/22/2015             4         311               1\n",
       "4   2/2/2015             6         312               1"
      ]
     },
     "execution_count": 60,
     "metadata": {},
     "output_type": "execute_result"
    }
   ],
   "source": [
    "# returns\n",
    "returns = pd.read_csv('gs://lpkadvworks/data/other_data/AdventureWorks_Returns.csv')\n",
    "returns.head()"
   ]
  },
  {
   "cell_type": "code",
   "execution_count": 61,
   "metadata": {},
   "outputs": [
    {
     "name": "stdout",
     "output_type": "stream",
     "text": [
      "<class 'pandas.core.frame.DataFrame'>\n",
      "RangeIndex: 1809 entries, 0 to 1808\n",
      "Data columns (total 4 columns):\n",
      " #   Column          Non-Null Count  Dtype \n",
      "---  ------          --------------  ----- \n",
      " 0   ReturnDate      1809 non-null   object\n",
      " 1   TerritoryKey    1809 non-null   int64 \n",
      " 2   ProductKey      1809 non-null   int64 \n",
      " 3   ReturnQuantity  1809 non-null   int64 \n",
      "dtypes: int64(3), object(1)\n",
      "memory usage: 56.7+ KB\n"
     ]
    }
   ],
   "source": [
    "returns.info()"
   ]
  },
  {
   "cell_type": "code",
   "execution_count": 62,
   "metadata": {},
   "outputs": [],
   "source": [
    "returns['ReturnDate'] = pd.to_datetime(returns['ReturnDate'], yearfirst=True)"
   ]
  },
  {
   "cell_type": "code",
   "execution_count": 64,
   "metadata": {},
   "outputs": [
    {
     "name": "stdout",
     "output_type": "stream",
     "text": [
      "<class 'pandas.core.frame.DataFrame'>\n",
      "RangeIndex: 1809 entries, 0 to 1808\n",
      "Data columns (total 4 columns):\n",
      " #   Column          Non-Null Count  Dtype         \n",
      "---  ------          --------------  -----         \n",
      " 0   ReturnDate      1809 non-null   datetime64[ns]\n",
      " 1   TerritoryKey    1809 non-null   int64         \n",
      " 2   ProductKey      1809 non-null   int64         \n",
      " 3   ReturnQuantity  1809 non-null   int64         \n",
      "dtypes: datetime64[ns](1), int64(3)\n",
      "memory usage: 56.7 KB\n"
     ]
    }
   ],
   "source": [
    "returns.info()"
   ]
  },
  {
   "cell_type": "code",
   "execution_count": 67,
   "metadata": {},
   "outputs": [
    {
     "data": {
      "text/plain": [
       "477    149\n",
       "480     92\n",
       "528     91\n",
       "478     74\n",
       "214     70\n",
       "      ... \n",
       "336      1\n",
       "569      1\n",
       "579      1\n",
       "597      1\n",
       "591      1\n",
       "Name: ProductKey, Length: 124, dtype: int64"
      ]
     },
     "execution_count": 67,
     "metadata": {},
     "output_type": "execute_result"
    }
   ],
   "source": [
    "returns['ProductKey'].value_counts()"
   ]
  },
  {
   "cell_type": "code",
   "execution_count": 69,
   "metadata": {},
   "outputs": [
    {
     "name": "stdout",
     "output_type": "stream",
     "text": [
      "<class 'pandas.core.frame.DataFrame'>\n",
      "RangeIndex: 10 entries, 0 to 9\n",
      "Data columns (total 4 columns):\n",
      " #   Column             Non-Null Count  Dtype \n",
      "---  ------             --------------  ----- \n",
      " 0   SalesTerritoryKey  10 non-null     int64 \n",
      " 1   Region             10 non-null     object\n",
      " 2   Country            10 non-null     object\n",
      " 3   Continent          10 non-null     object\n",
      "dtypes: int64(1), object(3)\n",
      "memory usage: 448.0+ bytes\n"
     ]
    }
   ],
   "source": [
    "# territories\n",
    "territories = pd.read_csv('gs://lpkadvworks/data/other_data/AdventureWorks_Territories.csv')\n",
    "territories.info()"
   ]
  },
  {
   "cell_type": "code",
   "execution_count": 86,
   "metadata": {},
   "outputs": [],
   "source": [
    "import glob\n",
    "# sales \n",
    "sales_dir = 'gs://lpkadvworks/data/sales_stage/'\n",
    "files = glob.glob('gs://lpkadvworks/data/sales_stage/*.csv')\n",
    "all_sales = pd.DataFrame()\n",
    "yearly_sales = []\n",
    "for file in files:\n",
    "    print(file)\n",
    "    df = pd.read_csv(file)\n",
    "    df['OrderDate'] = pd.to_datetime(df['OrderDate'], yearfirst=True)\n",
    "    df['StockDate'] = pd.to_datetime(df['StockDate'], yearfirst=True)\n",
    "    yearly_sales.append(df)\n",
    "\n",
    "# df_sales = pd.concat(yearly_sales)\n",
    "    "
   ]
  },
  {
   "cell_type": "code",
   "execution_count": 111,
   "metadata": {},
   "outputs": [],
   "source": [
    "from google.cloud import storage \n",
    "storage_client = storage.Client()\n",
    "blobs = storage_client.list_blobs('lpkadvworks')"
   ]
  },
  {
   "cell_type": "code",
   "execution_count": 80,
   "metadata": {},
   "outputs": [
    {
     "name": "stdout",
     "output_type": "stream",
     "text": [
      "gs://lpkadvworks/data/sales_stage/:\n",
      "gs://lpkadvworks/data/sales_stage/AdventureWorks_Sales_2015.csv\n",
      "gs://lpkadvworks/data/sales_stage/AdventureWorks_Sales_2016.csv\n",
      "gs://lpkadvworks/data/sales_stage/AdventureWorks_Sales_2017.csv\n"
     ]
    }
   ],
   "source": [
    "!gsutil ls -r gs://lpkadvworks/data/sales_stage/"
   ]
  },
  {
   "cell_type": "code",
   "execution_count": 112,
   "metadata": {},
   "outputs": [],
   "source": [
    "frames = []\n",
    "for blob in blobs:\n",
    "    if 'AdventureWorks_Sales' in blob.name:\n",
    "        path = f'gs://lpkadvworks/{blob.name}'\n",
    "        sales = pd.read_csv(path)\n",
    "        sales['OrderDate'] = pd.to_datetime(sales['OrderDate'], yearfirst=True)\n",
    "        sales['StockDate'] = pd.to_datetime(sales['StockDate'], yearfirst=True)\n",
    "        frames.append(sales)\n",
    "\n",
    "df = pd.concat(frames)\n",
    "        \n",
    "    "
   ]
  },
  {
   "cell_type": "code",
   "execution_count": 113,
   "metadata": {},
   "outputs": [
    {
     "name": "stdout",
     "output_type": "stream",
     "text": [
      "<class 'pandas.core.frame.DataFrame'>\n",
      "Int64Index: 56046 entries, 0 to 29480\n",
      "Data columns (total 8 columns):\n",
      " #   Column         Non-Null Count  Dtype         \n",
      "---  ------         --------------  -----         \n",
      " 0   OrderDate      56046 non-null  datetime64[ns]\n",
      " 1   StockDate      56046 non-null  datetime64[ns]\n",
      " 2   OrderNumber    56046 non-null  object        \n",
      " 3   ProductKey     56046 non-null  int64         \n",
      " 4   CustomerKey    56046 non-null  int64         \n",
      " 5   TerritoryKey   56046 non-null  int64         \n",
      " 6   OrderLineItem  56046 non-null  int64         \n",
      " 7   OrderQuantity  56046 non-null  int64         \n",
      "dtypes: datetime64[ns](2), int64(5), object(1)\n",
      "memory usage: 3.8+ MB\n"
     ]
    }
   ],
   "source": [
    "df.info()"
   ]
  },
  {
   "cell_type": "code",
   "execution_count": 114,
   "metadata": {},
   "outputs": [
    {
     "data": {
      "text/html": [
       "<div>\n",
       "<style scoped>\n",
       "    .dataframe tbody tr th:only-of-type {\n",
       "        vertical-align: middle;\n",
       "    }\n",
       "\n",
       "    .dataframe tbody tr th {\n",
       "        vertical-align: top;\n",
       "    }\n",
       "\n",
       "    .dataframe thead th {\n",
       "        text-align: right;\n",
       "    }\n",
       "</style>\n",
       "<table border=\"1\" class=\"dataframe\">\n",
       "  <thead>\n",
       "    <tr style=\"text-align: right;\">\n",
       "      <th></th>\n",
       "      <th>OrderDate</th>\n",
       "      <th>StockDate</th>\n",
       "      <th>OrderNumber</th>\n",
       "      <th>ProductKey</th>\n",
       "      <th>CustomerKey</th>\n",
       "      <th>TerritoryKey</th>\n",
       "      <th>OrderLineItem</th>\n",
       "      <th>OrderQuantity</th>\n",
       "    </tr>\n",
       "  </thead>\n",
       "  <tbody>\n",
       "    <tr>\n",
       "      <th>0</th>\n",
       "      <td>2015-01-01</td>\n",
       "      <td>2001-09-21</td>\n",
       "      <td>SO45080</td>\n",
       "      <td>332</td>\n",
       "      <td>14657</td>\n",
       "      <td>1</td>\n",
       "      <td>1</td>\n",
       "      <td>1</td>\n",
       "    </tr>\n",
       "    <tr>\n",
       "      <th>1</th>\n",
       "      <td>2015-01-01</td>\n",
       "      <td>2001-12-05</td>\n",
       "      <td>SO45079</td>\n",
       "      <td>312</td>\n",
       "      <td>29255</td>\n",
       "      <td>4</td>\n",
       "      <td>1</td>\n",
       "      <td>1</td>\n",
       "    </tr>\n",
       "    <tr>\n",
       "      <th>2</th>\n",
       "      <td>2015-01-01</td>\n",
       "      <td>2001-10-29</td>\n",
       "      <td>SO45082</td>\n",
       "      <td>350</td>\n",
       "      <td>11455</td>\n",
       "      <td>9</td>\n",
       "      <td>1</td>\n",
       "      <td>1</td>\n",
       "    </tr>\n",
       "    <tr>\n",
       "      <th>3</th>\n",
       "      <td>2015-01-01</td>\n",
       "      <td>2001-11-16</td>\n",
       "      <td>SO45081</td>\n",
       "      <td>338</td>\n",
       "      <td>26782</td>\n",
       "      <td>6</td>\n",
       "      <td>1</td>\n",
       "      <td>1</td>\n",
       "    </tr>\n",
       "    <tr>\n",
       "      <th>4</th>\n",
       "      <td>2015-01-02</td>\n",
       "      <td>2001-12-15</td>\n",
       "      <td>SO45083</td>\n",
       "      <td>312</td>\n",
       "      <td>14947</td>\n",
       "      <td>10</td>\n",
       "      <td>1</td>\n",
       "      <td>1</td>\n",
       "    </tr>\n",
       "  </tbody>\n",
       "</table>\n",
       "</div>"
      ],
      "text/plain": [
       "   OrderDate  StockDate OrderNumber  ProductKey  CustomerKey  TerritoryKey  \\\n",
       "0 2015-01-01 2001-09-21     SO45080         332        14657             1   \n",
       "1 2015-01-01 2001-12-05     SO45079         312        29255             4   \n",
       "2 2015-01-01 2001-10-29     SO45082         350        11455             9   \n",
       "3 2015-01-01 2001-11-16     SO45081         338        26782             6   \n",
       "4 2015-01-02 2001-12-15     SO45083         312        14947            10   \n",
       "\n",
       "   OrderLineItem  OrderQuantity  \n",
       "0              1              1  \n",
       "1              1              1  \n",
       "2              1              1  \n",
       "3              1              1  \n",
       "4              1              1  "
      ]
     },
     "execution_count": 114,
     "metadata": {},
     "output_type": "execute_result"
    }
   ],
   "source": [
    "df.head()"
   ]
  },
  {
   "cell_type": "code",
   "execution_count": 110,
   "metadata": {},
   "outputs": [],
   "source": [
    "\n",
    "# read, format and save csv to parquet\n",
    "df_sales_15 = pd.read_csv('gs://lpkadvworks/data/AW_Sales/AdventureWorks_Sales_2015.csv')\n"
   ]
  },
  {
   "cell_type": "code",
   "execution_count": 113,
   "metadata": {},
   "outputs": [
    {
     "data": {
      "text/plain": [
       "array([332, 312, 350, 338, 310, 314, 345, 313, 351, 344, 326, 348, 311,\n",
       "       324, 342, 349, 346, 328, 334, 347, 320, 330, 322, 340, 336, 371,\n",
       "       373, 354, 362, 385, 358, 377, 381, 379, 369, 370, 368, 352, 375,\n",
       "       387, 360, 356, 383, 389], dtype=int64)"
      ]
     },
     "execution_count": 113,
     "metadata": {},
     "output_type": "execute_result"
    }
   ],
   "source": [
    "df_ord_qty = df_sales_15['ProductKey'].unique()\n",
    "df_ord_qty"
   ]
  },
  {
   "cell_type": "code",
   "execution_count": 115,
   "metadata": {},
   "outputs": [],
   "source": [
    "# uri = \"gs://cloud-samples-data/bigquery/us-states/us-states.csv\"\n",
    "# pd.read_csv(uri)"
   ]
  },
  {
   "cell_type": "code",
   "execution_count": 41,
   "metadata": {},
   "outputs": [],
   "source": [
    "def format_and_to_parquet(csv_uri, parquet_uri):\n",
    "    df = pd.read_csv(csv_uri)\n",
    "    date_cols = ['OrderDate', 'StockDate']\n",
    "    for col in date_cols:\n",
    "        df[col] = df[col].str.replace('/', '-')\n",
    "        df[col] = pd.to_datetime(df[col])\n",
    "    df.to_parquet(parquet_uri, compression='snappy', index=False)"
   ]
  },
  {
   "cell_type": "code",
   "execution_count": 57,
   "metadata": {},
   "outputs": [],
   "source": [
    "def format_and_to_csv(csv_uri, csv_formatted_uri):\n",
    "    df = pd.read_csv(csv_uri)\n",
    "    date_cols = ['OrderDate', 'StockDate']\n",
    "    for col in date_cols:\n",
    "        df[col] = df[col].str.replace('/', '-')\n",
    "        df[col] = pd.to_datetime(df[col])\n",
    "    df.to_csv(f'gs://lpkadvworks/data/AW_Sales/AdventureWorks_Sales_{csv_formatted_uri}_2015.csv', index=False)"
   ]
  },
  {
   "cell_type": "code",
   "execution_count": 58,
   "metadata": {},
   "outputs": [],
   "source": [
    "csv_uri = 'gs://lpkadvworks/data/AW_Sales/AdventureWorks_Sales_2015.csv'\n",
    "parquet_uri = 'gs://lpkadvworks/data/AW_Sales/AdventureWorks_Sales_2015.parquet'\n",
    "csv_formatted_uri = 'formatted'"
   ]
  },
  {
   "cell_type": "code",
   "execution_count": 71,
   "metadata": {},
   "outputs": [],
   "source": [
    "format_and_to_csv(csv_uri, csv_formatted_uri)"
   ]
  },
  {
   "cell_type": "code",
   "execution_count": 72,
   "metadata": {},
   "outputs": [
    {
     "name": "stdout",
     "output_type": "stream",
     "text": [
      "gs://lpkadvworks/data/AW_Sales/:\n",
      "gs://lpkadvworks/data/AW_Sales/AdventureWorks_Sales_2015.csv\n",
      "gs://lpkadvworks/data/AW_Sales/AdventureWorks_Sales_2015.parquet\n",
      "gs://lpkadvworks/data/AW_Sales/AdventureWorks_Sales_2015.snappy.parquet\n",
      "gs://lpkadvworks/data/AW_Sales/AdventureWorks_Sales_2016.csv\n",
      "gs://lpkadvworks/data/AW_Sales/AdventureWorks_Sales_2017.csv\n",
      "gs://lpkadvworks/data/AW_Sales/AdventureWorks_Sales_formatted_2015.csv\n"
     ]
    }
   ],
   "source": [
    "!gsutil ls -r gs://lpkadvworks/data/AW_Sales"
   ]
  },
  {
   "cell_type": "code",
   "execution_count": 122,
   "metadata": {},
   "outputs": [],
   "source": [
    "sales_2015_formatted_df = pd.read_csv('gs://lpkadvworks/data/AW_Sales/AdventureWorks_Sales_formatted_2015.csv')"
   ]
  },
  {
   "cell_type": "code",
   "execution_count": 128,
   "metadata": {},
   "outputs": [],
   "source": [
    "\n",
    "date_cols = ['OrderDate', 'StockDate']\n",
    "for col in date_cols:\n",
    "    sales_2015_formatted_df[col] = sales_2015_formatted_df[col].str.replace('/', '-')\n",
    "    sales_2015_formatted_df[col] = pd.to_datetime(sales_2015_formatted_df[col])"
   ]
  },
  {
   "cell_type": "code",
   "execution_count": 129,
   "metadata": {},
   "outputs": [
    {
     "name": "stdout",
     "output_type": "stream",
     "text": [
      "<class 'pandas.core.frame.DataFrame'>\n",
      "RangeIndex: 2630 entries, 0 to 2629\n",
      "Data columns (total 8 columns):\n",
      " #   Column         Non-Null Count  Dtype         \n",
      "---  ------         --------------  -----         \n",
      " 0   OrderDate      2630 non-null   datetime64[ns]\n",
      " 1   StockDate      2630 non-null   datetime64[ns]\n",
      " 2   OrderNumber    2630 non-null   object        \n",
      " 3   ProductKey     2630 non-null   int64         \n",
      " 4   CustomerKey    2630 non-null   int64         \n",
      " 5   TerritoryKey   2630 non-null   int64         \n",
      " 6   OrderLineItem  2630 non-null   int64         \n",
      " 7   OrderQuantity  2630 non-null   int64         \n",
      "dtypes: datetime64[ns](2), int64(5), object(1)\n",
      "memory usage: 164.5+ KB\n"
     ]
    }
   ],
   "source": [
    "sales_2015_formatted_df.info()"
   ]
  },
  {
   "cell_type": "code",
   "execution_count": 138,
   "metadata": {},
   "outputs": [],
   "source": [
    "sales_2015_formatted_df.to_gbq(f'{project_id}.advworks.stage_sales', project_id)"
   ]
  },
  {
   "cell_type": "code",
   "execution_count": 153,
   "metadata": {},
   "outputs": [],
   "source": [
    "def format_to_gbq(csv_uri, project_id, gbq_table):\n",
    "    df = pd.read_csv(csv_uri)\n",
    "    date_cols = ['OrderDate', 'StockDate']\n",
    "    for col in date_cols:\n",
    "        df[col] = df[col].str.replace('/', '-')\n",
    "        df[col] = pd.to_datetime(df[col])\n",
    "    df.to_gbq(gbq_table, project_id, if_exists='replace')"
   ]
  },
  {
   "cell_type": "code",
   "execution_count": 142,
   "metadata": {},
   "outputs": [],
   "source": [
    "sales_2015_uri = 'gs://lpkadvworks/data/AW_Sales/AdventureWorks_Sales_2015.csv'\n",
    "gbq_table_id = f'{project_id}.advworks.stage_sales'"
   ]
  },
  {
   "cell_type": "code",
   "execution_count": 144,
   "metadata": {},
   "outputs": [
    {
     "name": "stdout",
     "output_type": "stream",
     "text": [
      "Created table dataengongcp.advworks.sales\n"
     ]
    }
   ],
   "source": [
    "# create sales table\n",
    "schema=[\n",
    "        bigquery.SchemaField('OrderDate', 'TIMESTAMP'),\n",
    "        bigquery.SchemaField('StockDate', 'TIMESTAMP'),\n",
    "        bigquery.SchemaField('OrderNumber', 'STRING'),\n",
    "        bigquery.SchemaField('ProductKey', 'INTEGER'),\n",
    "        bigquery.SchemaField('CustomerKey', 'INTEGER'),\n",
    "        bigquery.SchemaField('TerritoryKey', 'INTEGER'),\n",
    "        bigquery.SchemaField('OrderLineItem', 'INTEGER'),\n",
    "        bigquery.SchemaField('OrderQuantity', 'INTEGER'),\n",
    "    ]\n",
    "table_id = 'dataengongcp.advworks.sales'\n",
    "table = bigquery.Table(table_id, schema=schema)\n",
    "table = client.create_table(table)  # Make an API request.\n",
    "print(\n",
    "    \"Created table {}.{}.{}\".format(table.project, table.dataset_id, table.table_id)\n",
    ")"
   ]
  },
  {
   "cell_type": "code",
   "execution_count": 145,
   "metadata": {},
   "outputs": [],
   "source": []
  },
  {
   "cell_type": "code",
   "execution_count": 147,
   "metadata": {},
   "outputs": [
    {
     "data": {
      "text/plain": [
       "<google.cloud.bigquery.table._EmptyRowIterator at 0x29b35beb100>"
      ]
     },
     "execution_count": 147,
     "metadata": {},
     "output_type": "execute_result"
    }
   ],
   "source": []
  },
  {
   "cell_type": "code",
   "execution_count": 156,
   "metadata": {},
   "outputs": [],
   "source": [
    "# function to upsert data from staging table to main table\n",
    "def merge_stage_into_sales():\n",
    "    # merge into sales table\n",
    "    merge_query = f'''\n",
    "        MERGE INTO `{project_id}.advworks.sales` AS s\n",
    "        USING `{project_id}.advworks.stage_sales` AS ss\n",
    "        ON s.OrderNumber = ss.OrderNumber\n",
    "        WHEN MATCHED THEN\n",
    "            UPDATE SET s.OrderDate = ss.OrderDate,\n",
    "                        s.StockDate = ss.StockDate,\n",
    "                        s.ProductKey = ss.ProductKey,\n",
    "                        s.CustomerKey = ss.CustomerKey,\n",
    "                        s.TerritoryKey = ss.TerritoryKey,\n",
    "                        s.OrderLineItem = ss.OrderLineItem,\n",
    "                        s.OrderQuantity = ss.OrderQuantity\n",
    "        WHEN NOT MATCHED THEN\n",
    "            INSERT (OrderDate, StockDate, OrderNumber, ProductKey, CustomerKey, TerritoryKey, OrderLineItem, OrderQuantity)\n",
    "            VALUES (ss.OrderDate, ss.StockDate, ss.OrderNumber, ss.ProductKey, ss.CustomerKey, ss.TerritoryKey, ss.OrderLineItem, ss.OrderQuantity)\n",
    "    '''\n",
    "    job_config = bigquery.QueryJobConfig()\n",
    "    job_config.priority = bigquery.QueryPriority.BATCH\n",
    "    query_job = client.query(merge_query, job_config=job_config)\n",
    "    query_job.result()"
   ]
  },
  {
   "cell_type": "code",
   "execution_count": 152,
   "metadata": {},
   "outputs": [
    {
     "data": {
      "text/html": [
       "<div>\n",
       "<style scoped>\n",
       "    .dataframe tbody tr th:only-of-type {\n",
       "        vertical-align: middle;\n",
       "    }\n",
       "\n",
       "    .dataframe tbody tr th {\n",
       "        vertical-align: top;\n",
       "    }\n",
       "\n",
       "    .dataframe thead th {\n",
       "        text-align: right;\n",
       "    }\n",
       "</style>\n",
       "<table border=\"1\" class=\"dataframe\">\n",
       "  <thead>\n",
       "    <tr style=\"text-align: right;\">\n",
       "      <th></th>\n",
       "      <th>OrderDate</th>\n",
       "      <th>StockDate</th>\n",
       "      <th>OrderNumber</th>\n",
       "      <th>ProductKey</th>\n",
       "      <th>CustomerKey</th>\n",
       "      <th>TerritoryKey</th>\n",
       "      <th>OrderLineItem</th>\n",
       "      <th>OrderQuantity</th>\n",
       "    </tr>\n",
       "  </thead>\n",
       "  <tbody>\n",
       "    <tr>\n",
       "      <th>0</th>\n",
       "      <td>1/1/2016</td>\n",
       "      <td>10/17/2002</td>\n",
       "      <td>SO48797</td>\n",
       "      <td>385</td>\n",
       "      <td>14335</td>\n",
       "      <td>1</td>\n",
       "      <td>1</td>\n",
       "      <td>1</td>\n",
       "    </tr>\n",
       "    <tr>\n",
       "      <th>1</th>\n",
       "      <td>1/1/2016</td>\n",
       "      <td>9/30/2002</td>\n",
       "      <td>SO48802</td>\n",
       "      <td>383</td>\n",
       "      <td>24923</td>\n",
       "      <td>9</td>\n",
       "      <td>1</td>\n",
       "      <td>1</td>\n",
       "    </tr>\n",
       "    <tr>\n",
       "      <th>2</th>\n",
       "      <td>1/1/2016</td>\n",
       "      <td>11/29/2002</td>\n",
       "      <td>SO48801</td>\n",
       "      <td>326</td>\n",
       "      <td>15493</td>\n",
       "      <td>1</td>\n",
       "      <td>1</td>\n",
       "      <td>1</td>\n",
       "    </tr>\n",
       "    <tr>\n",
       "      <th>3</th>\n",
       "      <td>1/1/2016</td>\n",
       "      <td>11/16/2002</td>\n",
       "      <td>SO48799</td>\n",
       "      <td>352</td>\n",
       "      <td>26708</td>\n",
       "      <td>4</td>\n",
       "      <td>1</td>\n",
       "      <td>1</td>\n",
       "    </tr>\n",
       "    <tr>\n",
       "      <th>4</th>\n",
       "      <td>1/1/2016</td>\n",
       "      <td>12/16/2002</td>\n",
       "      <td>SO48798</td>\n",
       "      <td>369</td>\n",
       "      <td>23332</td>\n",
       "      <td>9</td>\n",
       "      <td>1</td>\n",
       "      <td>1</td>\n",
       "    </tr>\n",
       "  </tbody>\n",
       "</table>\n",
       "</div>"
      ],
      "text/plain": [
       "  OrderDate   StockDate OrderNumber  ProductKey  CustomerKey  TerritoryKey  \\\n",
       "0  1/1/2016  10/17/2002     SO48797         385        14335             1   \n",
       "1  1/1/2016   9/30/2002     SO48802         383        24923             9   \n",
       "2  1/1/2016  11/29/2002     SO48801         326        15493             1   \n",
       "3  1/1/2016  11/16/2002     SO48799         352        26708             4   \n",
       "4  1/1/2016  12/16/2002     SO48798         369        23332             9   \n",
       "\n",
       "   OrderLineItem  OrderQuantity  \n",
       "0              1              1  \n",
       "1              1              1  \n",
       "2              1              1  \n",
       "3              1              1  \n",
       "4              1              1  "
      ]
     },
     "execution_count": 152,
     "metadata": {},
     "output_type": "execute_result"
    }
   ],
   "source": [
    "# format_to_gbq(sales_2015_uri, project_id, gbq_table_id)\n",
    "df_16 = pd.read_csv('gs://lpkadvworks/data/AW_Sales/AdventureWorks_Sales_2016.csv')\n",
    "df_16.head()"
   ]
  },
  {
   "cell_type": "code",
   "execution_count": 154,
   "metadata": {},
   "outputs": [],
   "source": [
    "sales_2016_uri = 'gs://lpkadvworks/data/AW_Sales/AdventureWorks_Sales_2016.csv'\n",
    "gbq_table_id = f'{project_id}.advworks.stage_sales'\n",
    "format_to_gbq(sales_2016_uri, project_id, gbq_table_id)"
   ]
  },
  {
   "cell_type": "code",
   "execution_count": 157,
   "metadata": {},
   "outputs": [],
   "source": [
    "merge_stage_into_sales()"
   ]
  },
  {
   "cell_type": "code",
   "execution_count": 158,
   "metadata": {},
   "outputs": [],
   "source": [
    "def print_dataset_details(project_id):\n",
    "    datasets = list(client.list_datasets())\n",
    "    counter = 0\n",
    "    table_counter = 0\n",
    "    print(f'There are {len(datasets)} datasets in {project_id.upper()} project')\n",
    "    for dataset in datasets:\n",
    "        counter += 1\n",
    "        print(f'dataset {counter}: {dataset.dataset_id}')\n",
    "        print('............................................')\n",
    "        tables = list(client.list_tables(dataset))\n",
    "        print(f'There are {len(tables)} tables in {dataset.dataset_id} dataset')\n",
    "        for table in tables:\n",
    "            table_counter += 1\n",
    "            print(f'table {table_counter}: {table.table_id}')"
   ]
  },
  {
   "cell_type": "code",
   "execution_count": null,
   "metadata": {},
   "outputs": [],
   "source": [
    "# perform test query\n",
    "QUERY = (\n",
    "    f'SELECT * FROM `{project_id}.retail.orders`'\n",
    "    'LIMIT 10'\n",
    ")\n",
    "query_job = client.query(QUERY)\n",
    "rows = query_job.result()"
   ]
  },
  {
   "cell_type": "code",
   "execution_count": null,
   "metadata": {},
   "outputs": [],
   "source": [
    "for row in rows:\n",
    "    print(row.values())"
   ]
  },
  {
   "cell_type": "code",
   "execution_count": null,
   "metadata": {},
   "outputs": [],
   "source": [
    "# create new dataset advworks\n",
    "advworks_dataset = bigquery.Dataset(f'{project_id}.advworks')\n",
    "advworks_dataset.location = 'US'\n",
    "advworks_dataset = client.create_dataset(advworks_dataset, timeout=30)"
   ]
  },
  {
   "cell_type": "code",
   "execution_count": 159,
   "metadata": {},
   "outputs": [
    {
     "name": "stdout",
     "output_type": "stream",
     "text": [
      "There are 3 datasets in DATAENGONGCP project\n",
      "dataset 1: advworks\n",
      "............................................\n",
      "There are 2 tables in advworks dataset\n",
      "table 1: sales\n",
      "table 2: stage_sales\n",
      "dataset 2: retail\n",
      "............................................\n",
      "There are 3 tables in retail dataset\n",
      "table 3: daily_product_revenue\n",
      "table 4: order_items\n",
      "table 5: orders\n",
      "dataset 3: sms_db\n",
      "............................................\n",
      "There are 3 tables in sms_db dataset\n",
      "table 6: users\n",
      "table 7: users_duplicate\n",
      "table 8: users_stg\n"
     ]
    }
   ],
   "source": [
    "print_dataset_details(project_id)"
   ]
  },
  {
   "cell_type": "code",
   "execution_count": 84,
   "metadata": {},
   "outputs": [],
   "source": [
    "# create tables\n",
    "table_id = f'{project_id}.advworks.sales'\n",
    "\n",
    "jobs_config = bigquery.LoadJobConfig(\n",
    "    schema=[\n",
    "        bigquery.SchemaField('OrderDate', 'STRING'),\n",
    "        bigquery.SchemaField('StockDate', 'STRING'),\n",
    "        bigquery.SchemaField('OrderNumber', 'STRING'),\n",
    "        bigquery.SchemaField('ProductKey', 'STRING'),\n",
    "        bigquery.SchemaField('CustomerKey', 'STRING'),\n",
    "        bigquery.SchemaField('TerritoryKey', 'STRING'),\n",
    "        bigquery.SchemaField('OrderLineItem', 'STRING'),\n",
    "        bigquery.SchemaField('OrderQuantity', 'STRING'),\n",
    "    ]\n",
    ")\n",
    "\n",
    "# job_config = bigquery.LoadJobConfig(\n",
    "#     source_format=bigquery.SourceFormat.PARQUET,\n",
    "# )\n",
    "file_uri = 'gs://lpkadvworks/data/AW_Sales/AdventureWorks_Sales_formatted_2015.csv'"
   ]
  },
  {
   "cell_type": "code",
   "execution_count": 85,
   "metadata": {},
   "outputs": [
    {
     "data": {
      "text/plain": [
       "LoadJob<project=dataengongcp, location=US, id=30fa7a06-eaaf-4bb9-872f-575bb43ceae4>"
      ]
     },
     "execution_count": 85,
     "metadata": {},
     "output_type": "execute_result"
    }
   ],
   "source": [
    "load_job = client.load_table_from_uri(\n",
    "    file_uri, table_id, job_config=jobs_config\n",
    ")\n",
    "load_job.result()"
   ]
  },
  {
   "cell_type": "code",
   "execution_count": 86,
   "metadata": {},
   "outputs": [
    {
     "name": "stdout",
     "output_type": "stream",
     "text": [
      "Loaded 2631 rows to table dataengongcp.advworks.sales\n"
     ]
    }
   ],
   "source": [
    "sales_table = client.get_table(table_id)\n",
    "print(f'Loaded {sales_table.num_rows} rows to table {table_id}')"
   ]
  },
  {
   "cell_type": "code",
   "execution_count": null,
   "metadata": {},
   "outputs": [],
   "source": []
  },
  {
   "cell_type": "code",
   "execution_count": null,
   "metadata": {},
   "outputs": [],
   "source": [
    "# validate by reading table from bigquery using pandas\n",
    "\n"
   ]
  },
  {
   "cell_type": "code",
   "execution_count": null,
   "metadata": {},
   "outputs": [],
   "source": []
  },
  {
   "cell_type": "code",
   "execution_count": 100,
   "metadata": {},
   "outputs": [
    {
     "data": {
      "text/html": [
       "<div>\n",
       "<style scoped>\n",
       "    .dataframe tbody tr th:only-of-type {\n",
       "        vertical-align: middle;\n",
       "    }\n",
       "\n",
       "    .dataframe tbody tr th {\n",
       "        vertical-align: top;\n",
       "    }\n",
       "\n",
       "    .dataframe thead th {\n",
       "        text-align: right;\n",
       "    }\n",
       "</style>\n",
       "<table border=\"1\" class=\"dataframe\">\n",
       "  <thead>\n",
       "    <tr style=\"text-align: right;\">\n",
       "      <th></th>\n",
       "      <th>OrderDate</th>\n",
       "      <th>StockDate</th>\n",
       "      <th>OrderNumber</th>\n",
       "      <th>ProductKey</th>\n",
       "      <th>CustomerKey</th>\n",
       "      <th>TerritoryKey</th>\n",
       "      <th>OrderLineItem</th>\n",
       "      <th>OrderQuantity</th>\n",
       "    </tr>\n",
       "  </thead>\n",
       "  <tbody>\n",
       "    <tr>\n",
       "      <th>0</th>\n",
       "      <td>2015-01-04</td>\n",
       "      <td>2001-09-15</td>\n",
       "      <td>SO45098</td>\n",
       "      <td>310</td>\n",
       "      <td>29167</td>\n",
       "      <td>1</td>\n",
       "      <td>1</td>\n",
       "      <td>1</td>\n",
       "    </tr>\n",
       "    <tr>\n",
       "      <th>1</th>\n",
       "      <td>2015-01-06</td>\n",
       "      <td>2001-09-24</td>\n",
       "      <td>SO45103</td>\n",
       "      <td>310</td>\n",
       "      <td>29140</td>\n",
       "      <td>1</td>\n",
       "      <td>1</td>\n",
       "      <td>1</td>\n",
       "    </tr>\n",
       "    <tr>\n",
       "      <th>2</th>\n",
       "      <td>2015-01-08</td>\n",
       "      <td>2001-11-01</td>\n",
       "      <td>SO45114</td>\n",
       "      <td>310</td>\n",
       "      <td>29146</td>\n",
       "      <td>1</td>\n",
       "      <td>1</td>\n",
       "      <td>1</td>\n",
       "    </tr>\n",
       "    <tr>\n",
       "      <th>3</th>\n",
       "      <td>2015-01-09</td>\n",
       "      <td>2001-09-24</td>\n",
       "      <td>SO45121</td>\n",
       "      <td>310</td>\n",
       "      <td>29169</td>\n",
       "      <td>1</td>\n",
       "      <td>1</td>\n",
       "      <td>1</td>\n",
       "    </tr>\n",
       "    <tr>\n",
       "      <th>4</th>\n",
       "      <td>2015-01-14</td>\n",
       "      <td>2001-12-25</td>\n",
       "      <td>SO45152</td>\n",
       "      <td>310</td>\n",
       "      <td>29276</td>\n",
       "      <td>1</td>\n",
       "      <td>1</td>\n",
       "      <td>1</td>\n",
       "    </tr>\n",
       "  </tbody>\n",
       "</table>\n",
       "</div>"
      ],
      "text/plain": [
       "    OrderDate   StockDate OrderNumber ProductKey CustomerKey TerritoryKey  \\\n",
       "0  2015-01-04  2001-09-15     SO45098        310       29167            1   \n",
       "1  2015-01-06  2001-09-24     SO45103        310       29140            1   \n",
       "2  2015-01-08  2001-11-01     SO45114        310       29146            1   \n",
       "3  2015-01-09  2001-09-24     SO45121        310       29169            1   \n",
       "4  2015-01-14  2001-12-25     SO45152        310       29276            1   \n",
       "\n",
       "  OrderLineItem OrderQuantity  \n",
       "0             1             1  \n",
       "1             1             1  \n",
       "2             1             1  \n",
       "3             1             1  \n",
       "4             1             1  "
      ]
     },
     "execution_count": 100,
     "metadata": {},
     "output_type": "execute_result"
    }
   ],
   "source": [
    "query = f'''\n",
    "    SELECT *\n",
    "    FROM `{project_id}.advworks.sales`\n",
    "'''\n",
    "df = pd.read_gbq(query, project_id=project_id)\n",
    "df.head()"
   ]
  },
  {
   "cell_type": "code",
   "execution_count": 101,
   "metadata": {},
   "outputs": [
    {
     "data": {
      "text/plain": [
       "1                2630\n",
       "OrderQuantity       1\n",
       "Name: OrderQuantity, dtype: int64"
      ]
     },
     "execution_count": 101,
     "metadata": {},
     "output_type": "execute_result"
    }
   ],
   "source": [
    "df['OrderQuantity'].value_counts()"
   ]
  },
  {
   "cell_type": "code",
   "execution_count": 102,
   "metadata": {},
   "outputs": [
    {
     "data": {
      "text/html": [
       "<div>\n",
       "<style scoped>\n",
       "    .dataframe tbody tr th:only-of-type {\n",
       "        vertical-align: middle;\n",
       "    }\n",
       "\n",
       "    .dataframe tbody tr th {\n",
       "        vertical-align: top;\n",
       "    }\n",
       "\n",
       "    .dataframe thead th {\n",
       "        text-align: right;\n",
       "    }\n",
       "</style>\n",
       "<table border=\"1\" class=\"dataframe\">\n",
       "  <thead>\n",
       "    <tr style=\"text-align: right;\">\n",
       "      <th></th>\n",
       "      <th>OrderDate</th>\n",
       "      <th>StockDate</th>\n",
       "      <th>OrderNumber</th>\n",
       "      <th>ProductKey</th>\n",
       "      <th>CustomerKey</th>\n",
       "      <th>TerritoryKey</th>\n",
       "      <th>OrderLineItem</th>\n",
       "      <th>OrderQuantity</th>\n",
       "    </tr>\n",
       "  </thead>\n",
       "  <tbody>\n",
       "    <tr>\n",
       "      <th>2630</th>\n",
       "      <td>OrderDate</td>\n",
       "      <td>StockDate</td>\n",
       "      <td>OrderNumber</td>\n",
       "      <td>ProductKey</td>\n",
       "      <td>CustomerKey</td>\n",
       "      <td>TerritoryKey</td>\n",
       "      <td>OrderLineItem</td>\n",
       "      <td>OrderQuantity</td>\n",
       "    </tr>\n",
       "  </tbody>\n",
       "</table>\n",
       "</div>"
      ],
      "text/plain": [
       "      OrderDate  StockDate  OrderNumber  ProductKey  CustomerKey  \\\n",
       "2630  OrderDate  StockDate  OrderNumber  ProductKey  CustomerKey   \n",
       "\n",
       "      TerritoryKey  OrderLineItem  OrderQuantity  \n",
       "2630  TerritoryKey  OrderLineItem  OrderQuantity  "
      ]
     },
     "execution_count": 102,
     "metadata": {},
     "output_type": "execute_result"
    }
   ],
   "source": [
    "df.loc[df['OrderQuantity'] == 'OrderQuantity']"
   ]
  },
  {
   "cell_type": "code",
   "execution_count": 97,
   "metadata": {},
   "outputs": [
    {
     "data": {
      "text/html": [
       "<div>\n",
       "<style scoped>\n",
       "    .dataframe tbody tr th:only-of-type {\n",
       "        vertical-align: middle;\n",
       "    }\n",
       "\n",
       "    .dataframe tbody tr th {\n",
       "        vertical-align: top;\n",
       "    }\n",
       "\n",
       "    .dataframe thead th {\n",
       "        text-align: right;\n",
       "    }\n",
       "</style>\n",
       "<table border=\"1\" class=\"dataframe\">\n",
       "  <thead>\n",
       "    <tr style=\"text-align: right;\">\n",
       "      <th></th>\n",
       "      <th>OrderDate</th>\n",
       "      <th>StockDate</th>\n",
       "      <th>OrderNumber</th>\n",
       "      <th>ProductKey</th>\n",
       "      <th>CustomerKey</th>\n",
       "      <th>TerritoryKey</th>\n",
       "      <th>OrderLineItem</th>\n",
       "      <th>OrderQuantity</th>\n",
       "    </tr>\n",
       "  </thead>\n",
       "  <tbody>\n",
       "    <tr>\n",
       "      <th>0</th>\n",
       "      <td>2015-01-04</td>\n",
       "      <td>2001-09-15</td>\n",
       "      <td>SO45098</td>\n",
       "      <td>310</td>\n",
       "      <td>29167</td>\n",
       "      <td>1</td>\n",
       "      <td>1</td>\n",
       "      <td>1</td>\n",
       "    </tr>\n",
       "    <tr>\n",
       "      <th>1</th>\n",
       "      <td>2015-01-06</td>\n",
       "      <td>2001-09-24</td>\n",
       "      <td>SO45103</td>\n",
       "      <td>310</td>\n",
       "      <td>29140</td>\n",
       "      <td>1</td>\n",
       "      <td>1</td>\n",
       "      <td>1</td>\n",
       "    </tr>\n",
       "    <tr>\n",
       "      <th>2</th>\n",
       "      <td>2015-01-08</td>\n",
       "      <td>2001-11-01</td>\n",
       "      <td>SO45114</td>\n",
       "      <td>310</td>\n",
       "      <td>29146</td>\n",
       "      <td>1</td>\n",
       "      <td>1</td>\n",
       "      <td>1</td>\n",
       "    </tr>\n",
       "    <tr>\n",
       "      <th>3</th>\n",
       "      <td>2015-01-09</td>\n",
       "      <td>2001-09-24</td>\n",
       "      <td>SO45121</td>\n",
       "      <td>310</td>\n",
       "      <td>29169</td>\n",
       "      <td>1</td>\n",
       "      <td>1</td>\n",
       "      <td>1</td>\n",
       "    </tr>\n",
       "    <tr>\n",
       "      <th>4</th>\n",
       "      <td>2015-01-14</td>\n",
       "      <td>2001-12-25</td>\n",
       "      <td>SO45152</td>\n",
       "      <td>310</td>\n",
       "      <td>29276</td>\n",
       "      <td>1</td>\n",
       "      <td>1</td>\n",
       "      <td>1</td>\n",
       "    </tr>\n",
       "  </tbody>\n",
       "</table>\n",
       "</div>"
      ],
      "text/plain": [
       "    OrderDate   StockDate OrderNumber ProductKey CustomerKey TerritoryKey  \\\n",
       "0  2015-01-04  2001-09-15     SO45098        310       29167            1   \n",
       "1  2015-01-06  2001-09-24     SO45103        310       29140            1   \n",
       "2  2015-01-08  2001-11-01     SO45114        310       29146            1   \n",
       "3  2015-01-09  2001-09-24     SO45121        310       29169            1   \n",
       "4  2015-01-14  2001-12-25     SO45152        310       29276            1   \n",
       "\n",
       "  OrderLineItem OrderQuantity  \n",
       "0             1             1  \n",
       "1             1             1  \n",
       "2             1             1  \n",
       "3             1             1  \n",
       "4             1             1  "
      ]
     },
     "execution_count": 97,
     "metadata": {},
     "output_type": "execute_result"
    }
   ],
   "source": [
    "query = f'''\n",
    "    SELECT ProductKey,\n",
    "        COUNT(ProductKey) as NumOrders\n",
    "    FROM `{project_id}.advworks.sales`\n",
    "    GROUP BY 1\n",
    "    ORDER BY COUNT(OrderNumber) DESC\n",
    "'''\n",
    "top_date_quantity_df = pd.read_gbq(query, project_id=project_id)\n"
   ]
  },
  {
   "cell_type": "code",
   "execution_count": 99,
   "metadata": {},
   "outputs": [
    {
     "data": {
      "text/html": [
       "<div>\n",
       "<style scoped>\n",
       "    .dataframe tbody tr th:only-of-type {\n",
       "        vertical-align: middle;\n",
       "    }\n",
       "\n",
       "    .dataframe tbody tr th {\n",
       "        vertical-align: top;\n",
       "    }\n",
       "\n",
       "    .dataframe thead th {\n",
       "        text-align: right;\n",
       "    }\n",
       "</style>\n",
       "<table border=\"1\" class=\"dataframe\">\n",
       "  <thead>\n",
       "    <tr style=\"text-align: right;\">\n",
       "      <th></th>\n",
       "      <th>ProductKey</th>\n",
       "      <th>NumOrders</th>\n",
       "    </tr>\n",
       "  </thead>\n",
       "  <tbody>\n",
       "    <tr>\n",
       "      <th>40</th>\n",
       "      <td>322</td>\n",
       "      <td>24</td>\n",
       "    </tr>\n",
       "    <tr>\n",
       "      <th>41</th>\n",
       "      <td>330</td>\n",
       "      <td>24</td>\n",
       "    </tr>\n",
       "    <tr>\n",
       "      <th>42</th>\n",
       "      <td>346</td>\n",
       "      <td>24</td>\n",
       "    </tr>\n",
       "    <tr>\n",
       "      <th>43</th>\n",
       "      <td>347</td>\n",
       "      <td>22</td>\n",
       "    </tr>\n",
       "    <tr>\n",
       "      <th>44</th>\n",
       "      <td>ProductKey</td>\n",
       "      <td>1</td>\n",
       "    </tr>\n",
       "  </tbody>\n",
       "</table>\n",
       "</div>"
      ],
      "text/plain": [
       "    ProductKey  NumOrders\n",
       "40         322         24\n",
       "41         330         24\n",
       "42         346         24\n",
       "43         347         22\n",
       "44  ProductKey          1"
      ]
     },
     "execution_count": 99,
     "metadata": {},
     "output_type": "execute_result"
    }
   ],
   "source": [
    "top_date_quantity_df.tail()"
   ]
  },
  {
   "cell_type": "code",
   "execution_count": null,
   "metadata": {},
   "outputs": [],
   "source": []
  }
 ],
 "metadata": {
  "kernelspec": {
   "display_name": "advworks-deg-venv",
   "language": "python",
   "name": "python3"
  },
  "language_info": {
   "codemirror_mode": {
    "name": "ipython",
    "version": 3
   },
   "file_extension": ".py",
   "mimetype": "text/x-python",
   "name": "python",
   "nbconvert_exporter": "python",
   "pygments_lexer": "ipython3",
   "version": "3.9.7 (default, Sep 16 2021, 16:59:28) [MSC v.1916 64 bit (AMD64)]"
  },
  "orig_nbformat": 4,
  "vscode": {
   "interpreter": {
    "hash": "426029abc329e5a04b1f11f91aadccfc18968ac65d726452477c5064d503c039"
   }
  }
 },
 "nbformat": 4,
 "nbformat_minor": 2
}
