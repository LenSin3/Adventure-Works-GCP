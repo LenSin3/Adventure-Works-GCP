{
 "cells": [
  {
   "cell_type": "code",
   "execution_count": 2,
   "metadata": {},
   "outputs": [
    {
     "name": "stdout",
     "output_type": "stream",
     "text": [
      "2015-01-06 00:00:00+00:00\n",
      "2015-03-19 00:00:00+00:00\n",
      "2015-01-31 00:00:00+00:00\n",
      "2015-03-05 00:00:00+00:00\n",
      "2015-03-22 00:00:00+00:00\n",
      "2015-05-11 00:00:00+00:00\n",
      "2015-05-09 00:00:00+00:00\n",
      "2015-02-14 00:00:00+00:00\n",
      "2015-04-29 00:00:00+00:00\n",
      "2015-01-19 00:00:00+00:00\n"
     ]
    }
   ],
   "source": [
    "# validate  Google  BigQuery Integration with Python\n",
    "from google.cloud import bigquery\n",
    "\n",
    "client = bigquery.Client()\n",
    "\n",
    "# test quer\n",
    "QUERY = (\n",
    "    'SELECT * FROM `dataengongcp.advworks.sales`'\n",
    "    'LIMIT 10'\n",
    ")\n",
    "\n",
    "query_job = client.query(QUERY)\n",
    "rows = query_job.result()\n",
    "\n",
    "for row in rows:\n",
    "    print(row.OrderDate)"
   ]
  },
  {
   "attachments": {},
   "cell_type": "markdown",
   "metadata": {},
   "source": [
    "# Validate Google BigQuery Integration with Pyspark"
   ]
  },
  {
   "cell_type": "code",
   "execution_count": null,
   "metadata": {},
   "outputs": [],
   "source": [
    "# bigquery pyspark connector\n",
    "# visit https://github.com/GoogleCloudDataproc/spark-bigquery-connector/releases for latest releases\n",
    "pyspark --jars gs://spark-lib/bigquery/spark-bigquery-with-dependencies_2.12-0.28.0.jar"
   ]
  },
  {
   "cell_type": "code",
   "execution_count": null,
   "metadata": {},
   "outputs": [],
   "source": [
    "project_id = 'dataengongcp'\n",
    "\n",
    "df = spark. \\\n",
    "    read. \\\n",
    "    format('bigquery'). \\\n",
    "    option('table', f'{project_id}:advworks.sales'). \\\n",
    "    load()\n",
    "    \n",
    "df.printSchema()\n",
    "df.orderBy('OrderDate').show()\n",
    "\n",
    "\n"
   ]
  },
  {
   "attachments": {},
   "cell_type": "markdown",
   "metadata": {},
   "source": [
    "## Develop Logic to Save Result to BigQuery Table"
   ]
  },
  {
   "attachments": {},
   "cell_type": "markdown",
   "metadata": {},
   "source": [
    "- Create tables to hold data in BigQuery\n",
    "- Create dataframe using using data in GCS\n",
    "- Set GCS bucket as temporary bucket\n",
    "- Develop logic to write to Google BigQuery Table."
   ]
  },
  {
   "cell_type": "code",
   "execution_count": null,
   "metadata": {},
   "outputs": [],
   "source": [
    "# daily_product_revenue\n",
    "daily_product_revenue = spark. \\\n",
    "    read. \\\n",
    "    parquet('gs://lpkadvworks/sales_gold.db/daily_product_revenue')\n",
    "    \n",
    "spark.conf.set('temporaryGcsBucket', 'lpkadvworks')\n",
    "\n",
    "project_id = 'dataengongcp'\n",
    "\n",
    "daily_product_revenue. \\\n",
    "    write. \\\n",
    "    mode('overwrite').format('bigquery'). \\\n",
    "    option('table', f'{project_id}:advworks.daily_product_revenue'). \\\n",
    "    save()\n"
   ]
  },
  {
   "cell_type": "code",
   "execution_count": null,
   "metadata": {},
   "outputs": [],
   "source": [
    "# daily_returns_cost\n",
    "daily_returns_cost = spark. \\\n",
    "    read. \\\n",
    "    parquet('gs://lpkadvworks/returns_gold.db/daily_returns_cost')\n",
    "    \n",
    "spark.conf.set('temporaryGcsBucket', 'lpkadvworks')\n",
    "\n",
    "project_id = 'dataengongcp'\n",
    "\n",
    "daily_returns_cost. \\\n",
    "    write. \\\n",
    "    mode('overwrite').format('bigquery'). \\\n",
    "    option('table', f'{project_id}:advworks.daily_returns_cost'). \\\n",
    "    save()\n",
    "\n",
    "\n",
    "\n",
    "    "
   ]
  }
 ],
 "metadata": {
  "kernelspec": {
   "display_name": "advworks-deg-venv",
   "language": "python",
   "name": "python3"
  },
  "language_info": {
   "codemirror_mode": {
    "name": "ipython",
    "version": 3
   },
   "file_extension": ".py",
   "mimetype": "text/x-python",
   "name": "python",
   "nbconvert_exporter": "python",
   "pygments_lexer": "ipython3",
   "version": "3.9.7 (default, Sep 16 2021, 16:59:28) [MSC v.1916 64 bit (AMD64)]"
  },
  "orig_nbformat": 4,
  "vscode": {
   "interpreter": {
    "hash": "426029abc329e5a04b1f11f91aadccfc18968ac65d726452477c5064d503c039"
   }
  }
 },
 "nbformat": 4,
 "nbformat_minor": 2
}
