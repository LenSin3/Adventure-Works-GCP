{
 "cells": [
  {
   "cell_type": "code",
   "execution_count": 1,
   "metadata": {},
   "outputs": [
    {
     "name": "stdout",
     "output_type": "stream",
     "text": [
      "gs://lpkadvworks/data/:\n",
      "gs://lpkadvworks/data/AdventureWorks_Calendar.csv\n",
      "gs://lpkadvworks/data/AdventureWorks_Customers.csv\n",
      "gs://lpkadvworks/data/AdventureWorks_Product_Categories.csv\n",
      "gs://lpkadvworks/data/AdventureWorks_Product_Subcategories.csv\n",
      "gs://lpkadvworks/data/AdventureWorks_Products.csv\n",
      "gs://lpkadvworks/data/AdventureWorks_Returns.csv\n",
      "gs://lpkadvworks/data/AdventureWorks_Territories.csv\n",
      "\n",
      "gs://lpkadvworks/data/AW_Sales/:\n",
      "gs://lpkadvworks/data/AW_Sales/AdventureWorks_Sales_2015.csv\n",
      "gs://lpkadvworks/data/AW_Sales/AdventureWorks_Sales_2015.parquet\n",
      "gs://lpkadvworks/data/AW_Sales/AdventureWorks_Sales_2015.snappy.parquet\n",
      "gs://lpkadvworks/data/AW_Sales/AdventureWorks_Sales_2016.csv\n",
      "gs://lpkadvworks/data/AW_Sales/AdventureWorks_Sales_2017.csv\n",
      "gs://lpkadvworks/data/AW_Sales/AdventureWorks_Sales_formatted_2015.csv\n"
     ]
    }
   ],
   "source": [
    "# file Navigation on dataproc remote work environment\n",
    "# use hdfs dfs commands\n",
    "!gsutil ls -r gs://lpkadvworks"
   ]
  },
  {
   "cell_type": "code",
   "execution_count": null,
   "metadata": {},
   "outputs": [],
   "source": [
    "# create Spark dataframe\n",
    "# dataframes of Sales_2015\n",
    "# Launch PySpark CLI\n",
    "sales_2015 = spark. \\\n",
    "            read. \\\n",
    "            csv(\n",
    "                '/public/data/AW_Sales/AdventureWorks_Sales_2015.csv',\n",
    "            )"
   ]
  },
  {
   "cell_type": "code",
   "execution_count": null,
   "metadata": {},
   "outputs": [],
   "source": [
    "# create sales_stage and sales directories under data\n",
    "# transfer aw_sales csv files to sales_stage\n",
    "# create "
   ]
  },
  {
   "cell_type": "code",
   "execution_count": null,
   "metadata": {},
   "outputs": [],
   "source": [
    "# compute subcategory sales by year\n",
    "# output cols: OrderDate, SubCategory, SumQuantity, SumSales\n",
    "# execution plan\n",
    "# select sales.OrderDate, aps.SubCategoryName, SUM(sales.OrderQuantity), awp.ProductPrice\n",
    "#  join  AdventureWorks_Products awp\n",
    "# On sales.ProductKey = awp.ProductKey\n",
    "# join AdventureWorks_Product_Subcategory aps\n",
    "# ON awp.productSubCategoryKey = aps.ProductSubcategoryKey\n",
    "# GROUP BY 1, 2\n",
    "# "
   ]
  },
  {
   "cell_type": "code",
   "execution_count": null,
   "metadata": {},
   "outputs": [],
   "source": [
    "# commands to validate locally\n",
    "spark-sql -f adventureworks/scripts/yearly_subcategory_sales/pandas_spark_sql/cleanup.sql\n",
    "\n",
    "spark-sql -f adventureworks/scripts/yearly_subcategory_sales/pandas_spark_sql/file_format_converter.sql -d bucket_name=gs://lpkadvworks -d table_name=customers\n",
    "spark-sql -f adventureworks/scripts/yearly_subcategory_sales/pandas_spark_sql/file_format_converter.sql -d bucket_name=gs://lpkadvworks -d table_name=territories\n",
    "spark-sql -f adventureworks/scripts/yearly_subcategory_sales/pandas_spark_sql/file_format_converter.sql -d bucket_name=gs://lpkadvworks -d table_name=categories\n",
    "spark-sql -f adventureworks/scripts/yearly_subcategory_sales/pandas_spark_sql/file_format_converter.sql -d bucket_name=gs://lpkadvworks -d table_name=subcategories\n",
    "spark-sql -f adventureworks/scripts/yearly_subcategory_sales/pandas_spark_sql/file_format_converter.sql -d bucket_name=gs://lpkadvworks -d table_name=products\n",
    "spark-sql -f adventureworks/scripts/yearly_subcategory_sales/pandas_spark_sql/file_format_converter.sql -d bucket_name=gs://lpkadvworks -d table_name=returns\n",
    "spark-sql -f adventureworks/scripts/yearly_subcategory_sales/pandas_spark_sql/file_format_converter.sql -d bucket_name=gs://lpkadvworks -d table_name=sales\n",
    "\n",
    "spark-sql -f adventureworks/scripts/yearly_subcategory_sales/pandas_spark_sql/unittest.sql\n",
    "\n",
    "spark-sql -f adventureworks/scripts/yearly_subcategory_sales/pandas_spark_sql/compute_daily_product_revenue.sql\n",
    "spark-sql -f adventureworks/scripts/yearly_subcategory_sales/pandas_spark_sql/compute_daily_returns_cost.sql"
   ]
  }
 ],
 "metadata": {
  "kernelspec": {
   "display_name": "advworks-deg-venv",
   "language": "python",
   "name": "python3"
  },
  "language_info": {
   "codemirror_mode": {
    "name": "ipython",
    "version": 3
   },
   "file_extension": ".py",
   "mimetype": "text/x-python",
   "name": "python",
   "nbconvert_exporter": "python",
   "pygments_lexer": "ipython3",
   "version": "3.9.7 (default, Sep 16 2021, 16:59:28) [MSC v.1916 64 bit (AMD64)]"
  },
  "orig_nbformat": 4,
  "vscode": {
   "interpreter": {
    "hash": "426029abc329e5a04b1f11f91aadccfc18968ac65d726452477c5064d503c039"
   }
  }
 },
 "nbformat": 4,
 "nbformat_minor": 2
}
