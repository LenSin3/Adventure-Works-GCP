{
 "cells": [
  {
   "cell_type": "code",
   "execution_count": 1,
   "metadata": {},
   "outputs": [],
   "source": [
    "# create bucket - lpkadvworks\n",
    "!gsutil mb gs://lpkadvworks"
   ]
  },
  {
   "cell_type": "code",
   "execution_count": 2,
   "metadata": {},
   "outputs": [
    {
     "name": "stderr",
     "output_type": "stream",
     "text": [
      "Creating gs://lpkadvworks/...\n",
      "ServiceException: 409 A Cloud Storage bucket named 'lpkadvworks' already exists. Try another name. Bucket names must be globally unique across all Google Cloud projects, including those outside of your organization.\n"
     ]
    }
   ],
   "source": [
    "!gsutil ls "
   ]
  },
  {
   "cell_type": "code",
   "execution_count": 3,
   "metadata": {},
   "outputs": [
    {
     "name": "stdout",
     "output_type": "stream",
     "text": [
      "gs://lpkadvworks/\n",
      "gs://lpkretail/\n"
     ]
    }
   ],
   "source": [
    "# copy data directory to GCS bucket\n",
    "!gsutil cp -r ../data gs://lpkadvworks"
   ]
  },
  {
   "cell_type": "code",
   "execution_count": 4,
   "metadata": {},
   "outputs": [
    {
     "name": "stderr",
     "output_type": "stream",
     "text": [
      "Copying file://..\\data\\AdventureWorks_Calendar.csv [Content-Type=application/vnd.ms-excel]...\n",
      "/ [0 files][    0.0 B/  9.7 KiB]                                                \n",
      "/ [1 files][  9.7 KiB/  9.7 KiB]                                                \n",
      "Copying file://..\\data\\AdventureWorks_Customers.csv [Content-Type=application/vnd.ms-excel]...\n",
      "/ [1 files][  9.7 KiB/  1.9 MiB]                                                \n",
      "-\n",
      "- [2 files][  1.9 MiB/  1.9 MiB]                                                \n",
      "Copying file://..\\data\\AdventureWorks_Products.csv [Content-Type=application/vnd.ms-excel]...\n",
      "- [2 files][  1.9 MiB/  1.9 MiB]                                                \n",
      "\\\n",
      "\\ [3 files][  1.9 MiB/  1.9 MiB]                                                \n",
      "Copying file://..\\data\\AdventureWorks_Product_Categories.csv [Content-Type=application/vnd.ms-excel]...\n",
      "\\ [3 files][  1.9 MiB/  1.9 MiB]                                                \n",
      "\\ [4 files][  1.9 MiB/  1.9 MiB]                                                \n",
      "|\n",
      "\n",
      "==> NOTE: You are performing a sequence of gsutil operations that may\n",
      "run significantly faster if you instead use gsutil -m cp ... Please\n",
      "see the -m section under \"gsutil help options\" for further information\n",
      "about when gsutil -m can be advantageous.\n",
      "\n",
      "Copying file://..\\data\\AdventureWorks_Product_Subcategories.csv [Content-Type=application/vnd.ms-excel]...\n",
      "| [4 files][  1.9 MiB/  1.9 MiB]                                                \n",
      "| [5 files][  1.9 MiB/  1.9 MiB]                                                \n",
      "Copying file://..\\data\\AdventureWorks_Returns.csv [Content-Type=application/vnd.ms-excel]...\n",
      "| [5 files][  1.9 MiB/  2.0 MiB]                                                \n",
      "| [6 files][  2.0 MiB/  2.0 MiB]                                                \n",
      "/\n",
      "Copying file://..\\data\\AdventureWorks_Territories.csv [Content-Type=application/vnd.ms-excel]...\n",
      "/ [6 files][  2.0 MiB/  2.0 MiB]                                                \n",
      "/ [7 files][  2.0 MiB/  2.0 MiB]                                                \n",
      "Copying file://..\\data\\AW_Sales\\AdventureWorks_Sales_2015.csv [Content-Type=application/vnd.ms-excel]...\n",
      "/ [7 files][  2.0 MiB/  2.1 MiB]                                                \n",
      "/ [8 files][  2.1 MiB/  2.1 MiB]                                                \n",
      "-\n",
      "Copying file://..\\data\\AW_Sales\\AdventureWorks_Sales_2016.csv [Content-Type=application/vnd.ms-excel]...\n",
      "- [8 files][  2.1 MiB/  3.1 MiB]                                                \n",
      "- [9 files][  3.1 MiB/  3.1 MiB]                                                \n",
      "\\\n",
      "Copying file://..\\data\\AW_Sales\\AdventureWorks_Sales_2017.csv [Content-Type=application/vnd.ms-excel]...\n",
      "\\ [9 files][  3.1 MiB/  4.4 MiB]                                                \n",
      "\\ [10 files][  4.4 MiB/  4.4 MiB]                                               \n",
      "\n",
      "Operation completed over 10 objects/4.4 MiB.                                     \n"
     ]
    }
   ],
   "source": [
    "# validate for files in bucket\n",
    "!gsutil ls -r gs://lpkadvworks"
   ]
  },
  {
   "cell_type": "code",
   "execution_count": 5,
   "metadata": {},
   "outputs": [],
   "source": [
    "# import storage from google cloud\n",
    "from google.cloud import storage "
   ]
  },
  {
   "cell_type": "code",
   "execution_count": 6,
   "metadata": {},
   "outputs": [
    {
     "name": "stdout",
     "output_type": "stream",
     "text": [
      "gs://lpkadvworks/data/:\n",
      "gs://lpkadvworks/data/AdventureWorks_Calendar.csv\n",
      "gs://lpkadvworks/data/AdventureWorks_Customers.csv\n",
      "gs://lpkadvworks/data/AdventureWorks_Product_Categories.csv\n",
      "gs://lpkadvworks/data/AdventureWorks_Product_Subcategories.csv\n",
      "gs://lpkadvworks/data/AdventureWorks_Products.csv\n",
      "gs://lpkadvworks/data/AdventureWorks_Returns.csv\n",
      "gs://lpkadvworks/data/AdventureWorks_Territories.csv\n",
      "\n",
      "gs://lpkadvworks/data/AW_Sales/:\n",
      "gs://lpkadvworks/data/AW_Sales/AdventureWorks_Sales_2015.csv\n",
      "gs://lpkadvworks/data/AW_Sales/AdventureWorks_Sales_2015.snappy.parquet\n",
      "gs://lpkadvworks/data/AW_Sales/AdventureWorks_Sales_2016.csv\n",
      "gs://lpkadvworks/data/AW_Sales/AdventureWorks_Sales_2017.csv\n"
     ]
    }
   ],
   "source": [
    "# instantiate gsclient\n",
    "gsclient = storage.Client()"
   ]
  },
  {
   "cell_type": "code",
   "execution_count": 7,
   "metadata": {},
   "outputs": [
    {
     "data": {
      "text/plain": [
       "[<Bucket: lpkadvworks>, <Bucket: lpkretail>]"
      ]
     },
     "execution_count": 7,
     "metadata": {},
     "output_type": "execute_result"
    }
   ],
   "source": [
    "# list buckets\n",
    "all_buckets = list(gsclient.list_buckets())\n",
    "all_buckets"
   ]
  },
  {
   "cell_type": "code",
   "execution_count": 8,
   "metadata": {},
   "outputs": [
    {
     "name": "stdout",
     "output_type": "stream",
     "text": [
      "bucket 1: lpkadvworks\n",
      "bucket 2: lpkretail\n",
      "There are 2 buckets in my cloud storage!\n"
     ]
    }
   ],
   "source": [
    "# check for all buckets\n",
    "nums = 0\n",
    "for bucket in all_buckets:\n",
    "    nums +=1\n",
    "    print(f'bucket {nums}: {bucket.name}')\n",
    "print(f'There are {nums} buckets in my cloud storage!')"
   ]
  },
  {
   "cell_type": "code",
   "execution_count": 9,
   "metadata": {},
   "outputs": [
    {
     "name": "stdout",
     "output_type": "stream",
     "text": [
      "There are 11 main files/folders in lpkadvworks bucket.\n",
      "They are:\n",
      "1: data/AW_Sales/AdventureWorks_Sales_2015.csv\n",
      "2: data/AW_Sales/AdventureWorks_Sales_2015.snappy.parquet\n",
      "3: data/AW_Sales/AdventureWorks_Sales_2016.csv\n",
      "4: data/AW_Sales/AdventureWorks_Sales_2017.csv\n",
      "5: data/AdventureWorks_Calendar.csv\n",
      "6: data/AdventureWorks_Customers.csv\n",
      "7: data/AdventureWorks_Product_Categories.csv\n",
      "8: data/AdventureWorks_Product_Subcategories.csv\n",
      "9: data/AdventureWorks_Products.csv\n",
      "10: data/AdventureWorks_Returns.csv\n",
      "11: data/AdventureWorks_Territories.csv\n"
     ]
    }
   ],
   "source": [
    "# look at objects in lpkadvworks bucket\n",
    "counter = 0\n",
    "all_files_lpkadvworks = list(gsclient.list_blobs('lpkadvworks'))\n",
    "print(f'There are {len(all_files_lpkadvworks)} main files/folders in lpkadvworks bucket.')\n",
    "print('They are:')\n",
    "for file_folder in all_files_lpkadvworks:\n",
    "    counter += 1\n",
    "    print(f'{counter}: {file_folder.name}')"
   ]
  },
  {
   "cell_type": "code",
   "execution_count": 23,
   "metadata": {},
   "outputs": [
    {
     "data": {
      "text/html": [
       "<div>\n",
       "<style scoped>\n",
       "    .dataframe tbody tr th:only-of-type {\n",
       "        vertical-align: middle;\n",
       "    }\n",
       "\n",
       "    .dataframe tbody tr th {\n",
       "        vertical-align: top;\n",
       "    }\n",
       "\n",
       "    .dataframe thead th {\n",
       "        text-align: right;\n",
       "    }\n",
       "</style>\n",
       "<table border=\"1\" class=\"dataframe\">\n",
       "  <thead>\n",
       "    <tr style=\"text-align: right;\">\n",
       "      <th></th>\n",
       "      <th>OrderDate</th>\n",
       "      <th>StockDate</th>\n",
       "      <th>OrderNumber</th>\n",
       "      <th>ProductKey</th>\n",
       "      <th>CustomerKey</th>\n",
       "      <th>TerritoryKey</th>\n",
       "      <th>OrderLineItem</th>\n",
       "      <th>OrderQuantity</th>\n",
       "    </tr>\n",
       "  </thead>\n",
       "  <tbody>\n",
       "    <tr>\n",
       "      <th>2625</th>\n",
       "      <td>12/31/2015</td>\n",
       "      <td>11/29/2002</td>\n",
       "      <td>SO48728</td>\n",
       "      <td>354</td>\n",
       "      <td>13111</td>\n",
       "      <td>9</td>\n",
       "      <td>1</td>\n",
       "      <td>1</td>\n",
       "    </tr>\n",
       "    <tr>\n",
       "      <th>2626</th>\n",
       "      <td>12/31/2015</td>\n",
       "      <td>11/14/2002</td>\n",
       "      <td>SO48729</td>\n",
       "      <td>324</td>\n",
       "      <td>26563</td>\n",
       "      <td>9</td>\n",
       "      <td>1</td>\n",
       "      <td>1</td>\n",
       "    </tr>\n",
       "    <tr>\n",
       "      <th>2627</th>\n",
       "      <td>12/31/2015</td>\n",
       "      <td>12/2/2002</td>\n",
       "      <td>SO48724</td>\n",
       "      <td>340</td>\n",
       "      <td>20722</td>\n",
       "      <td>8</td>\n",
       "      <td>1</td>\n",
       "      <td>1</td>\n",
       "    </tr>\n",
       "    <tr>\n",
       "      <th>2628</th>\n",
       "      <td>12/31/2015</td>\n",
       "      <td>10/9/2002</td>\n",
       "      <td>SO48723</td>\n",
       "      <td>369</td>\n",
       "      <td>14944</td>\n",
       "      <td>7</td>\n",
       "      <td>1</td>\n",
       "      <td>1</td>\n",
       "    </tr>\n",
       "    <tr>\n",
       "      <th>2629</th>\n",
       "      <td>12/31/2015</td>\n",
       "      <td>11/22/2002</td>\n",
       "      <td>SO48726</td>\n",
       "      <td>383</td>\n",
       "      <td>24915</td>\n",
       "      <td>9</td>\n",
       "      <td>1</td>\n",
       "      <td>1</td>\n",
       "    </tr>\n",
       "  </tbody>\n",
       "</table>\n",
       "</div>"
      ],
      "text/plain": [
       "       OrderDate   StockDate OrderNumber  ProductKey  CustomerKey  \\\n",
       "2625  12/31/2015  11/29/2002     SO48728         354        13111   \n",
       "2626  12/31/2015  11/14/2002     SO48729         324        26563   \n",
       "2627  12/31/2015   12/2/2002     SO48724         340        20722   \n",
       "2628  12/31/2015   10/9/2002     SO48723         369        14944   \n",
       "2629  12/31/2015  11/22/2002     SO48726         383        24915   \n",
       "\n",
       "      TerritoryKey  OrderLineItem  OrderQuantity  \n",
       "2625             9              1              1  \n",
       "2626             9              1              1  \n",
       "2627             8              1              1  \n",
       "2628             7              1              1  \n",
       "2629             9              1              1  "
      ]
     },
     "execution_count": 23,
     "metadata": {},
     "output_type": "execute_result"
    }
   ],
   "source": [
    "import pandas as pd\n",
    "df_sales_15 = pd.read_csv('gs://lpkadvworks/data/AW_Sales/AdventureWorks_Sales_2015.csv')\n",
    "df_sales_15.tail()"
   ]
  },
  {
   "cell_type": "code",
   "execution_count": 11,
   "metadata": {},
   "outputs": [],
   "source": [
    "df_sales_15.to_parquet('gs://lpkadvworks/data/AW_Sales/AdventureWorks_Sales_2015.snappy.parquet', index=False)"
   ]
  },
  {
   "cell_type": "code",
   "execution_count": 12,
   "metadata": {},
   "outputs": [
    {
     "data": {
      "text/html": [
       "<div>\n",
       "<style scoped>\n",
       "    .dataframe tbody tr th:only-of-type {\n",
       "        vertical-align: middle;\n",
       "    }\n",
       "\n",
       "    .dataframe tbody tr th {\n",
       "        vertical-align: top;\n",
       "    }\n",
       "\n",
       "    .dataframe thead th {\n",
       "        text-align: right;\n",
       "    }\n",
       "</style>\n",
       "<table border=\"1\" class=\"dataframe\">\n",
       "  <thead>\n",
       "    <tr style=\"text-align: right;\">\n",
       "      <th></th>\n",
       "      <th>OrderDate</th>\n",
       "      <th>StockDate</th>\n",
       "      <th>OrderNumber</th>\n",
       "      <th>ProductKey</th>\n",
       "      <th>CustomerKey</th>\n",
       "      <th>TerritoryKey</th>\n",
       "      <th>OrderLineItem</th>\n",
       "      <th>OrderQuantity</th>\n",
       "    </tr>\n",
       "  </thead>\n",
       "  <tbody>\n",
       "    <tr>\n",
       "      <th>0</th>\n",
       "      <td>1/1/2015</td>\n",
       "      <td>9/21/2001</td>\n",
       "      <td>SO45080</td>\n",
       "      <td>332</td>\n",
       "      <td>14657</td>\n",
       "      <td>1</td>\n",
       "      <td>1</td>\n",
       "      <td>1</td>\n",
       "    </tr>\n",
       "    <tr>\n",
       "      <th>1</th>\n",
       "      <td>1/1/2015</td>\n",
       "      <td>12/5/2001</td>\n",
       "      <td>SO45079</td>\n",
       "      <td>312</td>\n",
       "      <td>29255</td>\n",
       "      <td>4</td>\n",
       "      <td>1</td>\n",
       "      <td>1</td>\n",
       "    </tr>\n",
       "    <tr>\n",
       "      <th>2</th>\n",
       "      <td>1/1/2015</td>\n",
       "      <td>10/29/2001</td>\n",
       "      <td>SO45082</td>\n",
       "      <td>350</td>\n",
       "      <td>11455</td>\n",
       "      <td>9</td>\n",
       "      <td>1</td>\n",
       "      <td>1</td>\n",
       "    </tr>\n",
       "    <tr>\n",
       "      <th>3</th>\n",
       "      <td>1/1/2015</td>\n",
       "      <td>11/16/2001</td>\n",
       "      <td>SO45081</td>\n",
       "      <td>338</td>\n",
       "      <td>26782</td>\n",
       "      <td>6</td>\n",
       "      <td>1</td>\n",
       "      <td>1</td>\n",
       "    </tr>\n",
       "    <tr>\n",
       "      <th>4</th>\n",
       "      <td>1/2/2015</td>\n",
       "      <td>12/15/2001</td>\n",
       "      <td>SO45083</td>\n",
       "      <td>312</td>\n",
       "      <td>14947</td>\n",
       "      <td>10</td>\n",
       "      <td>1</td>\n",
       "      <td>1</td>\n",
       "    </tr>\n",
       "  </tbody>\n",
       "</table>\n",
       "</div>"
      ],
      "text/plain": [
       "  OrderDate   StockDate OrderNumber  ProductKey  CustomerKey  TerritoryKey  \\\n",
       "0  1/1/2015   9/21/2001     SO45080         332        14657             1   \n",
       "1  1/1/2015   12/5/2001     SO45079         312        29255             4   \n",
       "2  1/1/2015  10/29/2001     SO45082         350        11455             9   \n",
       "3  1/1/2015  11/16/2001     SO45081         338        26782             6   \n",
       "4  1/2/2015  12/15/2001     SO45083         312        14947            10   \n",
       "\n",
       "   OrderLineItem  OrderQuantity  \n",
       "0              1              1  \n",
       "1              1              1  \n",
       "2              1              1  \n",
       "3              1              1  \n",
       "4              1              1  "
      ]
     },
     "execution_count": 12,
     "metadata": {},
     "output_type": "execute_result"
    }
   ],
   "source": [
    "df_parquet = pd.read_parquet('gs://lpkadvworks/data/AW_Sales/AdventureWorks_Sales_2015.snappy.parquet')\n",
    "df_parquet.head()"
   ]
  },
  {
   "cell_type": "code",
   "execution_count": 13,
   "metadata": {},
   "outputs": [
    {
     "name": "stdout",
     "output_type": "stream",
     "text": [
      "\u001b[1;31mSignature:\u001b[0m\n",
      "\u001b[0mgsclient\u001b[0m\u001b[1;33m.\u001b[0m\u001b[0mlist_blobs\u001b[0m\u001b[1;33m(\u001b[0m\u001b[1;33m\n",
      "\u001b[0m    \u001b[0mbucket_or_name\u001b[0m\u001b[1;33m,\u001b[0m\u001b[1;33m\n",
      "\u001b[0m    \u001b[0mmax_results\u001b[0m\u001b[1;33m=\u001b[0m\u001b[1;32mNone\u001b[0m\u001b[1;33m,\u001b[0m\u001b[1;33m\n",
      "\u001b[0m    \u001b[0mpage_token\u001b[0m\u001b[1;33m=\u001b[0m\u001b[1;32mNone\u001b[0m\u001b[1;33m,\u001b[0m\u001b[1;33m\n",
      "\u001b[0m    \u001b[0mprefix\u001b[0m\u001b[1;33m=\u001b[0m\u001b[1;32mNone\u001b[0m\u001b[1;33m,\u001b[0m\u001b[1;33m\n",
      "\u001b[0m    \u001b[0mdelimiter\u001b[0m\u001b[1;33m=\u001b[0m\u001b[1;32mNone\u001b[0m\u001b[1;33m,\u001b[0m\u001b[1;33m\n",
      "\u001b[0m    \u001b[0mstart_offset\u001b[0m\u001b[1;33m=\u001b[0m\u001b[1;32mNone\u001b[0m\u001b[1;33m,\u001b[0m\u001b[1;33m\n",
      "\u001b[0m    \u001b[0mend_offset\u001b[0m\u001b[1;33m=\u001b[0m\u001b[1;32mNone\u001b[0m\u001b[1;33m,\u001b[0m\u001b[1;33m\n",
      "\u001b[0m    \u001b[0minclude_trailing_delimiter\u001b[0m\u001b[1;33m=\u001b[0m\u001b[1;32mNone\u001b[0m\u001b[1;33m,\u001b[0m\u001b[1;33m\n",
      "\u001b[0m    \u001b[0mversions\u001b[0m\u001b[1;33m=\u001b[0m\u001b[1;32mNone\u001b[0m\u001b[1;33m,\u001b[0m\u001b[1;33m\n",
      "\u001b[0m    \u001b[0mprojection\u001b[0m\u001b[1;33m=\u001b[0m\u001b[1;34m'noAcl'\u001b[0m\u001b[1;33m,\u001b[0m\u001b[1;33m\n",
      "\u001b[0m    \u001b[0mfields\u001b[0m\u001b[1;33m=\u001b[0m\u001b[1;32mNone\u001b[0m\u001b[1;33m,\u001b[0m\u001b[1;33m\n",
      "\u001b[0m    \u001b[0mpage_size\u001b[0m\u001b[1;33m=\u001b[0m\u001b[1;32mNone\u001b[0m\u001b[1;33m,\u001b[0m\u001b[1;33m\n",
      "\u001b[0m    \u001b[0mtimeout\u001b[0m\u001b[1;33m=\u001b[0m\u001b[1;36m60\u001b[0m\u001b[1;33m,\u001b[0m\u001b[1;33m\n",
      "\u001b[0m    \u001b[0mretry\u001b[0m\u001b[1;33m=\u001b[0m\u001b[1;33m<\u001b[0m\u001b[0mgoogle\u001b[0m\u001b[1;33m.\u001b[0m\u001b[0mapi_core\u001b[0m\u001b[1;33m.\u001b[0m\u001b[0mretry\u001b[0m\u001b[1;33m.\u001b[0m\u001b[0mRetry\u001b[0m \u001b[0mobject\u001b[0m \u001b[0mat\u001b[0m \u001b[1;36m0x000001969E45C7F0\u001b[0m\u001b[1;33m>\u001b[0m\u001b[1;33m,\u001b[0m\u001b[1;33m\n",
      "\u001b[0m\u001b[1;33m)\u001b[0m\u001b[1;33m\u001b[0m\u001b[1;33m\u001b[0m\u001b[0m\n",
      "\u001b[1;31mDocstring:\u001b[0m\n",
      "Return an iterator used to find blobs in the bucket.\n",
      "\n",
      "If :attr:`user_project` is set, bills the API request to that project.\n",
      "\n",
      ".. note::\n",
      "  List prefixes (directories) in a bucket using a prefix and delimiter.\n",
      "  See a [code sample](https://cloud.google.com/storage/docs/samples/storage-list-files-with-prefix#storage_list_files_with_prefix-python)\n",
      "  listing objects using a prefix filter.\n",
      "\n",
      "Args:\n",
      "    bucket_or_name (Union[                 :class:`~google.cloud.storage.bucket.Bucket`,                  str,             ]):\n",
      "        The bucket resource to pass or name to create.\n",
      "\n",
      "    max_results (int):\n",
      "        (Optional) The maximum number of blobs to return.\n",
      "\n",
      "    page_token (str):\n",
      "        (Optional) If present, return the next batch of blobs, using the\n",
      "        value, which must correspond to the ``nextPageToken`` value\n",
      "        returned in the previous response.  Deprecated: use the ``pages``\n",
      "        property of the returned iterator instead of manually passing the\n",
      "        token.\n",
      "\n",
      "    prefix (str):\n",
      "        (Optional) Prefix used to filter blobs.\n",
      "\n",
      "    delimiter (str):\n",
      "        (Optional) Delimiter, used with ``prefix`` to\n",
      "        emulate hierarchy.\n",
      "\n",
      "    start_offset (str):\n",
      "        (Optional) Filter results to objects whose names are\n",
      "        lexicographically equal to or after ``startOffset``. If\n",
      "        ``endOffset`` is also set, the objects listed will have names\n",
      "        between ``startOffset`` (inclusive) and ``endOffset``\n",
      "        (exclusive).\n",
      "\n",
      "    end_offset (str):\n",
      "        (Optional) Filter results to objects whose names are\n",
      "        lexicographically before ``endOffset``. If ``startOffset`` is\n",
      "        also set, the objects listed will have names between\n",
      "        ``startOffset`` (inclusive) and ``endOffset`` (exclusive).\n",
      "\n",
      "    include_trailing_delimiter (boolean):\n",
      "        (Optional) If true, objects that end in exactly one instance of\n",
      "        ``delimiter`` will have their metadata included in ``items`` in\n",
      "        addition to ``prefixes``.\n",
      "\n",
      "    versions (bool):\n",
      "        (Optional) Whether object versions should be returned\n",
      "        as separate blobs.\n",
      "\n",
      "    projection (str):\n",
      "        (Optional) If used, must be 'full' or 'noAcl'.\n",
      "        Defaults to ``'noAcl'``. Specifies the set of\n",
      "        properties to return.\n",
      "\n",
      "    fields (str):\n",
      "        (Optional) Selector specifying which fields to include\n",
      "        in a partial response. Must be a list of fields. For\n",
      "        example to get a partial response with just the next\n",
      "        page token and the name and language of each blob returned:\n",
      "        ``'items(name,contentLanguage),nextPageToken'``.\n",
      "        See: https://cloud.google.com/storage/docs/json_api/v1/parameters#fields\n",
      "\n",
      "    page_size (int):\n",
      "        (Optional) Maximum number of blobs to return in each page.\n",
      "        Defaults to a value set by the API.\n",
      "\n",
      "    timeout (Optional[Union[float, Tuple[float, float]]]):\n",
      "        The amount of time, in seconds, to wait for the server response.\n",
      "\n",
      "        Can also be passed as a tuple (connect_timeout, read_timeout).\n",
      "        See :meth:`requests.Session.request` documentation for details.\n",
      "\n",
      "    retry (Optional[Union[google.api_core.retry.Retry, google.cloud.storage.retry.ConditionalRetryPolicy]]):\n",
      "        How to retry the RPC. A None value will disable retries.\n",
      "        A google.api_core.retry.Retry value will enable retries, and the object will\n",
      "        define retriable response codes and errors and configure backoff and timeout options.\n",
      "\n",
      "        A google.cloud.storage.retry.ConditionalRetryPolicy value wraps a Retry object and\n",
      "        activates it only if certain conditions are met. This class exists to provide safe defaults\n",
      "        for RPC calls that are not technically safe to retry normally (due to potential data\n",
      "        duplication or other side-effects) but become safe to retry if a condition such as\n",
      "        if_metageneration_match is set.\n",
      "\n",
      "        See the retry.py source code and docstrings in this package (google.cloud.storage.retry) for\n",
      "        information on retry types and how to configure them.\n",
      "\n",
      "Returns:\n",
      "    Iterator of all :class:`~google.cloud.storage.blob.Blob`\n",
      "    in this bucket matching the arguments. The RPC call\n",
      "    returns a response when the iterator is consumed.\n",
      "\n",
      "    As part of the response, you'll also get back an iterator.prefixes entity that lists object names\n",
      "    up to and including the requested delimiter. Duplicate entries are omitted from this list.\n",
      "\u001b[1;31mFile:\u001b[0m      c:\\users\\leonard\\onedrive\\desktop\\gitrepos\\adventure-works-gcp\\advworks-deg-venv\\lib\\site-packages\\google\\cloud\\storage\\client.py\n",
      "\u001b[1;31mType:\u001b[0m      method"
     ]
    }
   ],
   "source": [
    "gsclient.list_blobs?"
   ]
  },
  {
   "cell_type": "code",
   "execution_count": 14,
   "metadata": {},
   "outputs": [],
   "source": [
    "lpkadvworks_bucket = gsclient.bucket('lpkadvworks')\n",
    "blob_data = lpkadvworks_bucket.get_blob('data/AW_Sales/AdventureWorks_Sales_2015.csv')\n"
   ]
  },
  {
   "cell_type": "code",
   "execution_count": 15,
   "metadata": {},
   "outputs": [
    {
     "data": {
      "text/plain": [
       "'data/AW_Sales/AdventureWorks_Sales_2015.csv'"
      ]
     },
     "execution_count": 15,
     "metadata": {},
     "output_type": "execute_result"
    }
   ],
   "source": [
    "blob_data.name"
   ]
  },
  {
   "cell_type": "code",
   "execution_count": 16,
   "metadata": {},
   "outputs": [
    {
     "name": "stdout",
     "output_type": "stream",
     "text": [
      "1673856529605551\n"
     ]
    }
   ],
   "source": [
    "print(blob_data.generation)"
   ]
  },
  {
   "cell_type": "code",
   "execution_count": 17,
   "metadata": {},
   "outputs": [
    {
     "data": {
      "text/plain": [
       "datetime.datetime(2023, 1, 16, 8, 8, 49, 752000, tzinfo=datetime.timezone.utc)"
      ]
     },
     "execution_count": 17,
     "metadata": {},
     "output_type": "execute_result"
    }
   ],
   "source": [
    "blob_data.time_created"
   ]
  },
  {
   "cell_type": "code",
   "execution_count": 18,
   "metadata": {},
   "outputs": [
    {
     "data": {
      "text/plain": [
       "datetime.date(2023, 1, 16)"
      ]
     },
     "execution_count": 18,
     "metadata": {},
     "output_type": "execute_result"
    }
   ],
   "source": [
    "from datetime import datetime\n",
    "blob_data.time_created.date()"
   ]
  },
  {
   "cell_type": "code",
   "execution_count": 19,
   "metadata": {},
   "outputs": [
    {
     "name": "stdout",
     "output_type": "stream",
     "text": [
      "08:08:49.752000+00:00\n"
     ]
    }
   ],
   "source": [
    "print(blob_data.time_created.timetz())"
   ]
  },
  {
   "cell_type": "code",
   "execution_count": null,
   "metadata": {},
   "outputs": [],
   "source": []
  }
 ],
 "metadata": {
  "kernelspec": {
   "display_name": "advworks-deg-venv",
   "language": "python",
   "name": "python3"
  },
  "language_info": {
   "codemirror_mode": {
    "name": "ipython",
    "version": 3
   },
   "file_extension": ".py",
   "mimetype": "text/x-python",
   "name": "python",
   "nbconvert_exporter": "python",
   "pygments_lexer": "ipython3",
   "version": "3.9.7 (default, Sep 16 2021, 16:59:28) [MSC v.1916 64 bit (AMD64)]"
  },
  "orig_nbformat": 4,
  "vscode": {
   "interpreter": {
    "hash": "426029abc329e5a04b1f11f91aadccfc18968ac65d726452477c5064d503c039"
   }
  }
 },
 "nbformat": 4,
 "nbformat_minor": 2
}
