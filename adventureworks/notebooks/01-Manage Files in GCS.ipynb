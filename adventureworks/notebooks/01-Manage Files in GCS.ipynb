{
 "cells": [
  {
   "cell_type": "code",
   "execution_count": 1,
   "metadata": {},
   "outputs": [
    {
     "name": "stderr",
     "output_type": "stream",
     "text": [
      "Creating gs://lpkadvworks/...\n"
     ]
    }
   ],
   "source": [
    "# create bucket - lpkadvworks\n",
    "!gsutil mb gs://lpkadvworks"
   ]
  },
  {
   "cell_type": "code",
   "execution_count": 2,
   "metadata": {},
   "outputs": [
    {
     "name": "stdout",
     "output_type": "stream",
     "text": [
      "gs://lpkadvworks/\n",
      "gs://lpkretail/\n"
     ]
    }
   ],
   "source": [
    "!gsutil ls "
   ]
  },
  {
   "cell_type": "code",
   "execution_count": 4,
   "metadata": {},
   "outputs": [
    {
     "name": "stderr",
     "output_type": "stream",
     "text": [
      "Copying file://..\\data\\AdventureWorks_Calendar.csv [Content-Type=application/vnd.ms-excel]...\n",
      "/ [0 files][    0.0 B/  9.7 KiB]                                                \n",
      "/ [1 files][  9.7 KiB/  9.7 KiB]                                                \n",
      "Copying file://..\\data\\AdventureWorks_Customers.csv [Content-Type=application/vnd.ms-excel]...\n",
      "/ [1 files][  9.7 KiB/  1.9 MiB]                                                \n",
      "-\n",
      "- [2 files][  1.9 MiB/  1.9 MiB]                                                \n",
      "Copying file://..\\data\\AdventureWorks_Products.csv [Content-Type=application/vnd.ms-excel]...\n",
      "- [2 files][  1.9 MiB/  1.9 MiB]                                                \n",
      "- [3 files][  1.9 MiB/  1.9 MiB]                                                \n",
      "\\\n",
      "Copying file://..\\data\\AdventureWorks_Product_Categories.csv [Content-Type=application/vnd.ms-excel]...\n",
      "\\ [3 files][  1.9 MiB/  1.9 MiB]                                                \n",
      "\\ [4 files][  1.9 MiB/  1.9 MiB]                                                \n",
      "\n",
      "==> NOTE: You are performing a sequence of gsutil operations that may\n",
      "run significantly faster if you instead use gsutil -m cp ... Please\n",
      "see the -m section under \"gsutil help options\" for further information\n",
      "about when gsutil -m can be advantageous.\n",
      "\n",
      "Copying file://..\\data\\AdventureWorks_Product_Subcategories.csv [Content-Type=application/vnd.ms-excel]...\n",
      "\\ [4 files][  1.9 MiB/  1.9 MiB]                                                \n",
      "\\ [5 files][  1.9 MiB/  1.9 MiB]                                                \n",
      "Copying file://..\\data\\AdventureWorks_Returns.csv [Content-Type=application/vnd.ms-excel]...\n",
      "\\ [5 files][  1.9 MiB/  2.0 MiB]                                                \n",
      "|\n",
      "| [6 files][  2.0 MiB/  2.0 MiB]                                                \n",
      "Copying file://..\\data\\AdventureWorks_Territories.csv [Content-Type=application/vnd.ms-excel]...\n",
      "| [6 files][  2.0 MiB/  2.0 MiB]                                                \n",
      "| [7 files][  2.0 MiB/  2.0 MiB]                                                \n",
      "Copying file://..\\data\\AW_Sales\\AdventureWorks_Sales_2015.csv [Content-Type=application/vnd.ms-excel]...\n",
      "| [7 files][  2.0 MiB/  2.1 MiB]                                                \n",
      "/\n",
      "/ [8 files][  2.1 MiB/  2.1 MiB]                                                \n",
      "Copying file://..\\data\\AW_Sales\\AdventureWorks_Sales_2016.csv [Content-Type=application/vnd.ms-excel]...\n",
      "/ [8 files][  2.1 MiB/  3.1 MiB]                                                \n",
      "/ [9 files][  3.1 MiB/  3.1 MiB]                                                \n",
      "-\n",
      "Copying file://..\\data\\AW_Sales\\AdventureWorks_Sales_2017.csv [Content-Type=application/vnd.ms-excel]...\n",
      "- [9 files][  3.1 MiB/  4.4 MiB]                                                \n",
      "- [10 files][  4.4 MiB/  4.4 MiB]                                               \n",
      "\n",
      "Operation completed over 10 objects/4.4 MiB.                                     \n"
     ]
    }
   ],
   "source": [
    "# copy data directory to GCS bucket\n",
    "!gsutil cp -r ../data gs://lpkadvworks"
   ]
  },
  {
   "cell_type": "code",
   "execution_count": 6,
   "metadata": {},
   "outputs": [
    {
     "name": "stdout",
     "output_type": "stream",
     "text": [
      "gs://lpkadvworks/data/:\n",
      "gs://lpkadvworks/data/AdventureWorks_Calendar.csv\n",
      "gs://lpkadvworks/data/AdventureWorks_Customers.csv\n",
      "gs://lpkadvworks/data/AdventureWorks_Product_Categories.csv\n",
      "gs://lpkadvworks/data/AdventureWorks_Product_Subcategories.csv\n",
      "gs://lpkadvworks/data/AdventureWorks_Products.csv\n",
      "gs://lpkadvworks/data/AdventureWorks_Returns.csv\n",
      "gs://lpkadvworks/data/AdventureWorks_Territories.csv\n",
      "\n",
      "gs://lpkadvworks/data/AW_Sales/:\n",
      "gs://lpkadvworks/data/AW_Sales/AdventureWorks_Sales_2015.csv\n",
      "gs://lpkadvworks/data/AW_Sales/AdventureWorks_Sales_2016.csv\n",
      "gs://lpkadvworks/data/AW_Sales/AdventureWorks_Sales_2017.csv\n"
     ]
    }
   ],
   "source": [
    "# validate for files in bucket\n",
    "!gsutil ls -r gs://lpkadvworks"
   ]
  },
  {
   "cell_type": "code",
   "execution_count": null,
   "metadata": {},
   "outputs": [],
   "source": []
  }
 ],
 "metadata": {
  "kernelspec": {
   "display_name": "advworks-deg-venv",
   "language": "python",
   "name": "python3"
  },
  "language_info": {
   "codemirror_mode": {
    "name": "ipython",
    "version": 3
   },
   "file_extension": ".py",
   "mimetype": "text/x-python",
   "name": "python",
   "nbconvert_exporter": "python",
   "pygments_lexer": "ipython3",
   "version": "3.9.7"
  },
  "orig_nbformat": 4,
  "vscode": {
   "interpreter": {
    "hash": "426029abc329e5a04b1f11f91aadccfc18968ac65d726452477c5064d503c039"
   }
  }
 },
 "nbformat": 4,
 "nbformat_minor": 2
}
